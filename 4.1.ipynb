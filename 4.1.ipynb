{
 "cells": [
  {
   "cell_type": "code",
   "execution_count": 1,
   "metadata": {},
   "outputs": [],
   "source": [
    "import numpy as np\n",
    "import pandas as pd\n",
    "import matplotlib.pyplot as plt\n",
    "from scipy import stats\n",
    "import seaborn as sns\n",
    "%matplotlib inline\n",
    "\n",
    "import chart_studio.plotly as py\n",
    "import plotly.graph_objs as go\n",
    "from plotly.offline import download_plotlyjs, init_notebook_mode,plot,iplot"
   ]
  },
  {
   "cell_type": "code",
   "execution_count": 2,
   "metadata": {},
   "outputs": [],
   "source": [
    "df=pd.read_csv('2014_World_Power_Consumption')"
   ]
  },
  {
   "cell_type": "code",
   "execution_count": 3,
   "metadata": {},
   "outputs": [
    {
     "data": {
      "text/html": [
       "<div>\n",
       "<style scoped>\n",
       "    .dataframe tbody tr th:only-of-type {\n",
       "        vertical-align: middle;\n",
       "    }\n",
       "\n",
       "    .dataframe tbody tr th {\n",
       "        vertical-align: top;\n",
       "    }\n",
       "\n",
       "    .dataframe thead th {\n",
       "        text-align: right;\n",
       "    }\n",
       "</style>\n",
       "<table border=\"1\" class=\"dataframe\">\n",
       "  <thead>\n",
       "    <tr style=\"text-align: right;\">\n",
       "      <th></th>\n",
       "      <th>Country</th>\n",
       "      <th>Power Consumption KWH</th>\n",
       "      <th>Text</th>\n",
       "    </tr>\n",
       "  </thead>\n",
       "  <tbody>\n",
       "    <tr>\n",
       "      <th>0</th>\n",
       "      <td>China</td>\n",
       "      <td>5.523000e+12</td>\n",
       "      <td>China 5,523,000,000,000</td>\n",
       "    </tr>\n",
       "    <tr>\n",
       "      <th>1</th>\n",
       "      <td>United States</td>\n",
       "      <td>3.832000e+12</td>\n",
       "      <td>United 3,832,000,000,000</td>\n",
       "    </tr>\n",
       "    <tr>\n",
       "      <th>2</th>\n",
       "      <td>European</td>\n",
       "      <td>2.771000e+12</td>\n",
       "      <td>European 2,771,000,000,000</td>\n",
       "    </tr>\n",
       "    <tr>\n",
       "      <th>3</th>\n",
       "      <td>Russia</td>\n",
       "      <td>1.065000e+12</td>\n",
       "      <td>Russia 1,065,000,000,000</td>\n",
       "    </tr>\n",
       "    <tr>\n",
       "      <th>4</th>\n",
       "      <td>Japan</td>\n",
       "      <td>9.210000e+11</td>\n",
       "      <td>Japan 921,000,000,000</td>\n",
       "    </tr>\n",
       "  </tbody>\n",
       "</table>\n",
       "</div>"
      ],
      "text/plain": [
       "         Country  Power Consumption KWH                        Text\n",
       "0          China           5.523000e+12     China 5,523,000,000,000\n",
       "1  United States           3.832000e+12    United 3,832,000,000,000\n",
       "2       European           2.771000e+12  European 2,771,000,000,000\n",
       "3         Russia           1.065000e+12    Russia 1,065,000,000,000\n",
       "4          Japan           9.210000e+11       Japan 921,000,000,000"
      ]
     },
     "execution_count": 3,
     "metadata": {},
     "output_type": "execute_result"
    }
   ],
   "source": [
    "df.head()"
   ]
  },
  {
   "cell_type": "code",
   "execution_count": 15,
   "metadata": {},
   "outputs": [],
   "source": [
    "data=dict(type='choropleth',\n",
    "          colorscale='Portland',\n",
    "          locations=df['Country'],\n",
    "          locationmode='country names',\n",
    "          z=df['Power Consumption KWH'],\n",
    "          text=df['Country'], \n",
    "         )"
   ]
  },
  {
   "cell_type": "code",
   "execution_count": 16,
   "metadata": {},
   "outputs": [],
   "source": [
    "layout=dict(title='World Power Consumption Plot',\n",
    "           geo=dict(showframe=False,\n",
    "                    projection={'type':'equirectangular'})\n",
    "           )"
   ]
  },
  {
   "cell_type": "code",
   "execution_count": 17,
   "metadata": {},
   "outputs": [],
   "source": [
    "choromap=go.Figure(data=[data],layout=layout)"
   ]
  },
  {
   "cell_type": "code",
   "execution_count": 18,
   "metadata": {},
   "outputs": [
    {
     "data": {
      "application/vnd.plotly.v1+json": {
       "config": {
        "linkText": "Export to plot.ly",
        "plotlyServerURL": "https://plot.ly",
        "showLink": false
       },
       "data": [
        {
         "colorscale": [
          [
           0,
           "rgb(12,51,131)"
          ],
          [
           0.25,
           "rgb(10,136,186)"
          ],
          [
           0.5,
           "rgb(242,211,56)"
          ],
          [
           0.75,
           "rgb(242,143,56)"
          ],
          [
           1,
           "rgb(217,30,30)"
          ]
         ],
         "locationmode": "country names",
         "locations": [
          "China",
          "United States",
          "European",
          "Russia",
          "Japan",
          "India",
          "Germany",
          "Canada",
          "Brazil",
          "Korea,",
          "France",
          "United Kingdom",
          "Italy",
          "Taiwan",
          "Spain",
          "Mexico",
          "Saudi",
          "Australia",
          "South",
          "Turkey",
          "Iran",
          "Indonesia",
          "Ukraine",
          "Thailand",
          "Poland",
          "Egypt",
          "Sweden",
          "Norway",
          "Malaysia",
          "Argentina",
          "Netherlands",
          "Vietnam",
          "Venezuela",
          "United Arab Emirates",
          "Finland",
          "Belgium",
          "Kazakhstan",
          "Pakistan",
          "Philippines",
          "Austria",
          "Chile",
          "Czechia",
          "Israel",
          "Switzerland",
          "Greece",
          "Iraq",
          "Romania",
          "Kuwait",
          "Colombia",
          "Singapore",
          "Portugal",
          "Uzbekistan",
          "Hong",
          "Algeria",
          "Bangladesh",
          "New",
          "Bulgaria",
          "Belarus",
          "Peru",
          "Denmark",
          "Qatar",
          "Slovakia",
          "Libya",
          "Serbia",
          "Morocco",
          "Syria",
          "Nigeria",
          "Ireland",
          "Hungary",
          "Oman",
          "Ecuador",
          "Puerto",
          "Azerbaijan",
          "Croatia",
          "Iceland",
          "Cuba",
          "Korea,",
          "Dominican",
          "Jordan",
          "Tajikistan",
          "Tunisia",
          "Slovenia",
          "Lebanon",
          "Bosnia",
          "Turkmenistan",
          "Bahrain",
          "Mozambique",
          "Ghana",
          "Sri",
          "Kyrgyzstan",
          "Lithuania",
          "Uruguay",
          "Costa",
          "Guatemala",
          "Georgia",
          "Trinidad",
          "Zambia",
          "Paraguay",
          "Albania",
          "Burma",
          "Estonia",
          "Congo,",
          "Panama",
          "Latvia",
          "Macedonia",
          "Zimbabwe",
          "Kenya",
          "Bolivia",
          "Luxembourg",
          "Sudan",
          "El",
          "Cameroon",
          "West",
          "Ethiopia",
          "Armenia",
          "Honduras",
          "Angola",
          "Cote",
          "Tanzania",
          "Nicaragua",
          "Moldova",
          "Cyprus",
          "Macau",
          "Namibia",
          "Mongolia",
          "Afghanistan",
          "Yemen",
          "Brunei",
          "Cambodia",
          "Montenegro",
          "Nepal",
          "Botswana",
          "Papua",
          "Jamaica",
          "Kosovo",
          "Laos",
          "Uganda",
          "New",
          "Mauritius",
          "Senegal",
          "Bhutan",
          "Malawi",
          "Madagascar",
          "Bahamas,",
          "Gabon",
          "Suriname",
          "Guam",
          "Liechtenstein",
          "Swaziland",
          "Burkina",
          "Togo",
          "Curacao",
          "Mauritania",
          "Barbados",
          "Niger",
          "Aruba",
          "Benin",
          "Guinea",
          "Mali",
          "Fiji",
          "Congo,",
          "Virgin",
          "Lesotho",
          "South",
          "Bermuda",
          "French",
          "Jersey",
          "Belize",
          "Andorra",
          "Guyana",
          "Cayman",
          "Haiti",
          "Rwanda",
          "Saint",
          "Djibouti",
          "Seychelles",
          "Somalia",
          "Antigua",
          "Greenland",
          "Cabo",
          "Eritrea",
          "Burundi",
          "Liberia",
          "Maldives",
          "Faroe",
          "Gambia,",
          "Chad",
          "Micronesia,",
          "Grenada",
          "Central",
          "Turks",
          "Gibraltar",
          "American",
          "Sierra",
          "Saint",
          "Saint",
          "Timor-Leste",
          "Equatorial",
          "Samoa",
          "Dominica",
          "Western",
          "Solomon",
          "Sao",
          "British",
          "Vanuatu",
          "Guinea-Bissau",
          "Tonga",
          "Saint",
          "Comoros",
          "Cook",
          "Kiribati",
          "Montserrat",
          "Nauru",
          "Falkland",
          "Saint",
          "Niue",
          "Gaza",
          "Malta",
          "Northern"
         ],
         "text": [
          "China",
          "United States",
          "European",
          "Russia",
          "Japan",
          "India",
          "Germany",
          "Canada",
          "Brazil",
          "Korea,",
          "France",
          "United Kingdom",
          "Italy",
          "Taiwan",
          "Spain",
          "Mexico",
          "Saudi",
          "Australia",
          "South",
          "Turkey",
          "Iran",
          "Indonesia",
          "Ukraine",
          "Thailand",
          "Poland",
          "Egypt",
          "Sweden",
          "Norway",
          "Malaysia",
          "Argentina",
          "Netherlands",
          "Vietnam",
          "Venezuela",
          "United Arab Emirates",
          "Finland",
          "Belgium",
          "Kazakhstan",
          "Pakistan",
          "Philippines",
          "Austria",
          "Chile",
          "Czechia",
          "Israel",
          "Switzerland",
          "Greece",
          "Iraq",
          "Romania",
          "Kuwait",
          "Colombia",
          "Singapore",
          "Portugal",
          "Uzbekistan",
          "Hong",
          "Algeria",
          "Bangladesh",
          "New",
          "Bulgaria",
          "Belarus",
          "Peru",
          "Denmark",
          "Qatar",
          "Slovakia",
          "Libya",
          "Serbia",
          "Morocco",
          "Syria",
          "Nigeria",
          "Ireland",
          "Hungary",
          "Oman",
          "Ecuador",
          "Puerto",
          "Azerbaijan",
          "Croatia",
          "Iceland",
          "Cuba",
          "Korea,",
          "Dominican",
          "Jordan",
          "Tajikistan",
          "Tunisia",
          "Slovenia",
          "Lebanon",
          "Bosnia",
          "Turkmenistan",
          "Bahrain",
          "Mozambique",
          "Ghana",
          "Sri",
          "Kyrgyzstan",
          "Lithuania",
          "Uruguay",
          "Costa",
          "Guatemala",
          "Georgia",
          "Trinidad",
          "Zambia",
          "Paraguay",
          "Albania",
          "Burma",
          "Estonia",
          "Congo,",
          "Panama",
          "Latvia",
          "Macedonia",
          "Zimbabwe",
          "Kenya",
          "Bolivia",
          "Luxembourg",
          "Sudan",
          "El",
          "Cameroon",
          "West",
          "Ethiopia",
          "Armenia",
          "Honduras",
          "Angola",
          "Cote",
          "Tanzania",
          "Nicaragua",
          "Moldova",
          "Cyprus",
          "Macau",
          "Namibia",
          "Mongolia",
          "Afghanistan",
          "Yemen",
          "Brunei",
          "Cambodia",
          "Montenegro",
          "Nepal",
          "Botswana",
          "Papua",
          "Jamaica",
          "Kosovo",
          "Laos",
          "Uganda",
          "New",
          "Mauritius",
          "Senegal",
          "Bhutan",
          "Malawi",
          "Madagascar",
          "Bahamas,",
          "Gabon",
          "Suriname",
          "Guam",
          "Liechtenstein",
          "Swaziland",
          "Burkina",
          "Togo",
          "Curacao",
          "Mauritania",
          "Barbados",
          "Niger",
          "Aruba",
          "Benin",
          "Guinea",
          "Mali",
          "Fiji",
          "Congo,",
          "Virgin",
          "Lesotho",
          "South",
          "Bermuda",
          "French",
          "Jersey",
          "Belize",
          "Andorra",
          "Guyana",
          "Cayman",
          "Haiti",
          "Rwanda",
          "Saint",
          "Djibouti",
          "Seychelles",
          "Somalia",
          "Antigua",
          "Greenland",
          "Cabo",
          "Eritrea",
          "Burundi",
          "Liberia",
          "Maldives",
          "Faroe",
          "Gambia,",
          "Chad",
          "Micronesia,",
          "Grenada",
          "Central",
          "Turks",
          "Gibraltar",
          "American",
          "Sierra",
          "Saint",
          "Saint",
          "Timor-Leste",
          "Equatorial",
          "Samoa",
          "Dominica",
          "Western",
          "Solomon",
          "Sao",
          "British",
          "Vanuatu",
          "Guinea-Bissau",
          "Tonga",
          "Saint",
          "Comoros",
          "Cook",
          "Kiribati",
          "Montserrat",
          "Nauru",
          "Falkland",
          "Saint",
          "Niue",
          "Gaza",
          "Malta",
          "Northern"
         ],
         "type": "choropleth",
         "z": [
          5523000000000,
          3832000000000,
          2771000000000,
          1065000000000,
          921000000000,
          864700000000,
          540100000000,
          511000000000,
          483500000000,
          482400000000,
          451100000000,
          319100000000,
          303100000000,
          249500000000,
          243100000000,
          234000000000,
          231600000000,
          222600000000,
          211600000000,
          197000000000,
          195300000000,
          167500000000,
          159800000000,
          155900000000,
          139000000000,
          135600000000,
          130500000000,
          126400000000,
          118500000000,
          117100000000,
          116800000000,
          108300000000,
          97690000000,
          93280000000,
          82040000000,
          81890000000,
          80290000000,
          78890000000,
          75270000000,
          69750000000,
          63390000000,
          60550000000,
          59830000000,
          58010000000,
          57730000000,
          53410000000,
          50730000000,
          50000000000,
          49380000000,
          47180000000,
          46250000000,
          45210000000,
          44210000000,
          42870000000,
          41520000000,
          40300000000,
          37990000000,
          37880000000,
          35690000000,
          31960000000,
          30530000000,
          28360000000,
          27540000000,
          26910000000,
          26700000000,
          25700000000,
          24780000000,
          24240000000,
          21550000000,
          20360000000,
          19020000000,
          18620000000,
          17790000000,
          16970000000,
          16940000000,
          16200000000,
          16000000000,
          15140000000,
          14560000000,
          14420000000,
          13310000000,
          13020000000,
          12940000000,
          12560000000,
          11750000000,
          11690000000,
          11280000000,
          10580000000,
          10170000000,
          9943000000,
          9664000000,
          9559000000,
          8987000000,
          8915000000,
          8468000000,
          8365000000,
          8327000000,
          8125000000,
          7793000000,
          7765000000,
          7417000000,
          7292000000,
          7144000000,
          7141000000,
          6960000000,
          6831000000,
          6627000000,
          6456000000,
          6108000000,
          5665000000,
          5665000000,
          5535000000,
          5312000000,
          5227000000,
          5043000000,
          5036000000,
          4842000000,
          4731000000,
          4545000000,
          4412000000,
          4305000000,
          4296000000,
          4291000000,
          4238000000,
          4204000000,
          3893000000,
          3838000000,
          3766000000,
          3553000000,
          3465000000,
          3239000000,
          3213000000,
          3116000000,
          3008000000,
          2887000000,
          2874000000,
          2821000000,
          2716000000,
          2658000000,
          2586000000,
          2085000000,
          2027000000,
          1883000000,
          1716000000,
          1680000000,
          1572000000,
          1566000000,
          1360000000,
          1295000000,
          985500000,
          976000000,
          968000000,
          962600000,
          938000000,
          930200000,
          920700000,
          911000000,
          903000000,
          882600000,
          777600000,
          740000000,
          723500000,
          707000000,
          694100000,
          664200000,
          652900000,
          630100000,
          605000000,
          562400000,
          558000000,
          545900000,
          452000000,
          365500000,
          336400000,
          311600000,
          293900000,
          293000000,
          293000000,
          292000000,
          285500000,
          284000000,
          282900000,
          276900000,
          267100000,
          261300000,
          218600000,
          190700000,
          178600000,
          178000000,
          168300000,
          167400000,
          160000000,
          146000000,
          134900000,
          130200000,
          127400000,
          125300000,
          93000000,
          90400000,
          89750000,
          83700000,
          79050000,
          60450000,
          51150000,
          49290000,
          46500000,
          44640000,
          39990000,
          39990000,
          28950000,
          24180000,
          23250000,
          23250000,
          11160000,
          7440000,
          2790000,
          202000,
          174700,
          48300
         ]
        }
       ],
       "layout": {
        "geo": {
         "projection": {
          "type": "equirectangular"
         },
         "showframe": false
        },
        "template": {
         "data": {
          "bar": [
           {
            "error_x": {
             "color": "#2a3f5f"
            },
            "error_y": {
             "color": "#2a3f5f"
            },
            "marker": {
             "line": {
              "color": "#E5ECF6",
              "width": 0.5
             }
            },
            "type": "bar"
           }
          ],
          "barpolar": [
           {
            "marker": {
             "line": {
              "color": "#E5ECF6",
              "width": 0.5
             }
            },
            "type": "barpolar"
           }
          ],
          "carpet": [
           {
            "aaxis": {
             "endlinecolor": "#2a3f5f",
             "gridcolor": "white",
             "linecolor": "white",
             "minorgridcolor": "white",
             "startlinecolor": "#2a3f5f"
            },
            "baxis": {
             "endlinecolor": "#2a3f5f",
             "gridcolor": "white",
             "linecolor": "white",
             "minorgridcolor": "white",
             "startlinecolor": "#2a3f5f"
            },
            "type": "carpet"
           }
          ],
          "choropleth": [
           {
            "colorbar": {
             "outlinewidth": 0,
             "ticks": ""
            },
            "type": "choropleth"
           }
          ],
          "contour": [
           {
            "colorbar": {
             "outlinewidth": 0,
             "ticks": ""
            },
            "colorscale": [
             [
              0,
              "#0d0887"
             ],
             [
              0.1111111111111111,
              "#46039f"
             ],
             [
              0.2222222222222222,
              "#7201a8"
             ],
             [
              0.3333333333333333,
              "#9c179e"
             ],
             [
              0.4444444444444444,
              "#bd3786"
             ],
             [
              0.5555555555555556,
              "#d8576b"
             ],
             [
              0.6666666666666666,
              "#ed7953"
             ],
             [
              0.7777777777777778,
              "#fb9f3a"
             ],
             [
              0.8888888888888888,
              "#fdca26"
             ],
             [
              1,
              "#f0f921"
             ]
            ],
            "type": "contour"
           }
          ],
          "contourcarpet": [
           {
            "colorbar": {
             "outlinewidth": 0,
             "ticks": ""
            },
            "type": "contourcarpet"
           }
          ],
          "heatmap": [
           {
            "colorbar": {
             "outlinewidth": 0,
             "ticks": ""
            },
            "colorscale": [
             [
              0,
              "#0d0887"
             ],
             [
              0.1111111111111111,
              "#46039f"
             ],
             [
              0.2222222222222222,
              "#7201a8"
             ],
             [
              0.3333333333333333,
              "#9c179e"
             ],
             [
              0.4444444444444444,
              "#bd3786"
             ],
             [
              0.5555555555555556,
              "#d8576b"
             ],
             [
              0.6666666666666666,
              "#ed7953"
             ],
             [
              0.7777777777777778,
              "#fb9f3a"
             ],
             [
              0.8888888888888888,
              "#fdca26"
             ],
             [
              1,
              "#f0f921"
             ]
            ],
            "type": "heatmap"
           }
          ],
          "heatmapgl": [
           {
            "colorbar": {
             "outlinewidth": 0,
             "ticks": ""
            },
            "colorscale": [
             [
              0,
              "#0d0887"
             ],
             [
              0.1111111111111111,
              "#46039f"
             ],
             [
              0.2222222222222222,
              "#7201a8"
             ],
             [
              0.3333333333333333,
              "#9c179e"
             ],
             [
              0.4444444444444444,
              "#bd3786"
             ],
             [
              0.5555555555555556,
              "#d8576b"
             ],
             [
              0.6666666666666666,
              "#ed7953"
             ],
             [
              0.7777777777777778,
              "#fb9f3a"
             ],
             [
              0.8888888888888888,
              "#fdca26"
             ],
             [
              1,
              "#f0f921"
             ]
            ],
            "type": "heatmapgl"
           }
          ],
          "histogram": [
           {
            "marker": {
             "colorbar": {
              "outlinewidth": 0,
              "ticks": ""
             }
            },
            "type": "histogram"
           }
          ],
          "histogram2d": [
           {
            "colorbar": {
             "outlinewidth": 0,
             "ticks": ""
            },
            "colorscale": [
             [
              0,
              "#0d0887"
             ],
             [
              0.1111111111111111,
              "#46039f"
             ],
             [
              0.2222222222222222,
              "#7201a8"
             ],
             [
              0.3333333333333333,
              "#9c179e"
             ],
             [
              0.4444444444444444,
              "#bd3786"
             ],
             [
              0.5555555555555556,
              "#d8576b"
             ],
             [
              0.6666666666666666,
              "#ed7953"
             ],
             [
              0.7777777777777778,
              "#fb9f3a"
             ],
             [
              0.8888888888888888,
              "#fdca26"
             ],
             [
              1,
              "#f0f921"
             ]
            ],
            "type": "histogram2d"
           }
          ],
          "histogram2dcontour": [
           {
            "colorbar": {
             "outlinewidth": 0,
             "ticks": ""
            },
            "colorscale": [
             [
              0,
              "#0d0887"
             ],
             [
              0.1111111111111111,
              "#46039f"
             ],
             [
              0.2222222222222222,
              "#7201a8"
             ],
             [
              0.3333333333333333,
              "#9c179e"
             ],
             [
              0.4444444444444444,
              "#bd3786"
             ],
             [
              0.5555555555555556,
              "#d8576b"
             ],
             [
              0.6666666666666666,
              "#ed7953"
             ],
             [
              0.7777777777777778,
              "#fb9f3a"
             ],
             [
              0.8888888888888888,
              "#fdca26"
             ],
             [
              1,
              "#f0f921"
             ]
            ],
            "type": "histogram2dcontour"
           }
          ],
          "mesh3d": [
           {
            "colorbar": {
             "outlinewidth": 0,
             "ticks": ""
            },
            "type": "mesh3d"
           }
          ],
          "parcoords": [
           {
            "line": {
             "colorbar": {
              "outlinewidth": 0,
              "ticks": ""
             }
            },
            "type": "parcoords"
           }
          ],
          "scatter": [
           {
            "marker": {
             "colorbar": {
              "outlinewidth": 0,
              "ticks": ""
             }
            },
            "type": "scatter"
           }
          ],
          "scatter3d": [
           {
            "line": {
             "colorbar": {
              "outlinewidth": 0,
              "ticks": ""
             }
            },
            "marker": {
             "colorbar": {
              "outlinewidth": 0,
              "ticks": ""
             }
            },
            "type": "scatter3d"
           }
          ],
          "scattercarpet": [
           {
            "marker": {
             "colorbar": {
              "outlinewidth": 0,
              "ticks": ""
             }
            },
            "type": "scattercarpet"
           }
          ],
          "scattergeo": [
           {
            "marker": {
             "colorbar": {
              "outlinewidth": 0,
              "ticks": ""
             }
            },
            "type": "scattergeo"
           }
          ],
          "scattergl": [
           {
            "marker": {
             "colorbar": {
              "outlinewidth": 0,
              "ticks": ""
             }
            },
            "type": "scattergl"
           }
          ],
          "scattermapbox": [
           {
            "marker": {
             "colorbar": {
              "outlinewidth": 0,
              "ticks": ""
             }
            },
            "type": "scattermapbox"
           }
          ],
          "scatterpolar": [
           {
            "marker": {
             "colorbar": {
              "outlinewidth": 0,
              "ticks": ""
             }
            },
            "type": "scatterpolar"
           }
          ],
          "scatterpolargl": [
           {
            "marker": {
             "colorbar": {
              "outlinewidth": 0,
              "ticks": ""
             }
            },
            "type": "scatterpolargl"
           }
          ],
          "scatterternary": [
           {
            "marker": {
             "colorbar": {
              "outlinewidth": 0,
              "ticks": ""
             }
            },
            "type": "scatterternary"
           }
          ],
          "surface": [
           {
            "colorbar": {
             "outlinewidth": 0,
             "ticks": ""
            },
            "colorscale": [
             [
              0,
              "#0d0887"
             ],
             [
              0.1111111111111111,
              "#46039f"
             ],
             [
              0.2222222222222222,
              "#7201a8"
             ],
             [
              0.3333333333333333,
              "#9c179e"
             ],
             [
              0.4444444444444444,
              "#bd3786"
             ],
             [
              0.5555555555555556,
              "#d8576b"
             ],
             [
              0.6666666666666666,
              "#ed7953"
             ],
             [
              0.7777777777777778,
              "#fb9f3a"
             ],
             [
              0.8888888888888888,
              "#fdca26"
             ],
             [
              1,
              "#f0f921"
             ]
            ],
            "type": "surface"
           }
          ],
          "table": [
           {
            "cells": {
             "fill": {
              "color": "#EBF0F8"
             },
             "line": {
              "color": "white"
             }
            },
            "header": {
             "fill": {
              "color": "#C8D4E3"
             },
             "line": {
              "color": "white"
             }
            },
            "type": "table"
           }
          ]
         },
         "layout": {
          "annotationdefaults": {
           "arrowcolor": "#2a3f5f",
           "arrowhead": 0,
           "arrowwidth": 1
          },
          "colorscale": {
           "diverging": [
            [
             0,
             "#8e0152"
            ],
            [
             0.1,
             "#c51b7d"
            ],
            [
             0.2,
             "#de77ae"
            ],
            [
             0.3,
             "#f1b6da"
            ],
            [
             0.4,
             "#fde0ef"
            ],
            [
             0.5,
             "#f7f7f7"
            ],
            [
             0.6,
             "#e6f5d0"
            ],
            [
             0.7,
             "#b8e186"
            ],
            [
             0.8,
             "#7fbc41"
            ],
            [
             0.9,
             "#4d9221"
            ],
            [
             1,
             "#276419"
            ]
           ],
           "sequential": [
            [
             0,
             "#0d0887"
            ],
            [
             0.1111111111111111,
             "#46039f"
            ],
            [
             0.2222222222222222,
             "#7201a8"
            ],
            [
             0.3333333333333333,
             "#9c179e"
            ],
            [
             0.4444444444444444,
             "#bd3786"
            ],
            [
             0.5555555555555556,
             "#d8576b"
            ],
            [
             0.6666666666666666,
             "#ed7953"
            ],
            [
             0.7777777777777778,
             "#fb9f3a"
            ],
            [
             0.8888888888888888,
             "#fdca26"
            ],
            [
             1,
             "#f0f921"
            ]
           ],
           "sequentialminus": [
            [
             0,
             "#0d0887"
            ],
            [
             0.1111111111111111,
             "#46039f"
            ],
            [
             0.2222222222222222,
             "#7201a8"
            ],
            [
             0.3333333333333333,
             "#9c179e"
            ],
            [
             0.4444444444444444,
             "#bd3786"
            ],
            [
             0.5555555555555556,
             "#d8576b"
            ],
            [
             0.6666666666666666,
             "#ed7953"
            ],
            [
             0.7777777777777778,
             "#fb9f3a"
            ],
            [
             0.8888888888888888,
             "#fdca26"
            ],
            [
             1,
             "#f0f921"
            ]
           ]
          },
          "colorway": [
           "#636efa",
           "#EF553B",
           "#00cc96",
           "#ab63fa",
           "#FFA15A",
           "#19d3f3",
           "#FF6692",
           "#B6E880",
           "#FF97FF",
           "#FECB52"
          ],
          "font": {
           "color": "#2a3f5f"
          },
          "geo": {
           "bgcolor": "white",
           "lakecolor": "white",
           "landcolor": "#E5ECF6",
           "showlakes": true,
           "showland": true,
           "subunitcolor": "white"
          },
          "hoverlabel": {
           "align": "left"
          },
          "hovermode": "closest",
          "mapbox": {
           "style": "light"
          },
          "paper_bgcolor": "white",
          "plot_bgcolor": "#E5ECF6",
          "polar": {
           "angularaxis": {
            "gridcolor": "white",
            "linecolor": "white",
            "ticks": ""
           },
           "bgcolor": "#E5ECF6",
           "radialaxis": {
            "gridcolor": "white",
            "linecolor": "white",
            "ticks": ""
           }
          },
          "scene": {
           "xaxis": {
            "backgroundcolor": "#E5ECF6",
            "gridcolor": "white",
            "gridwidth": 2,
            "linecolor": "white",
            "showbackground": true,
            "ticks": "",
            "zerolinecolor": "white"
           },
           "yaxis": {
            "backgroundcolor": "#E5ECF6",
            "gridcolor": "white",
            "gridwidth": 2,
            "linecolor": "white",
            "showbackground": true,
            "ticks": "",
            "zerolinecolor": "white"
           },
           "zaxis": {
            "backgroundcolor": "#E5ECF6",
            "gridcolor": "white",
            "gridwidth": 2,
            "linecolor": "white",
            "showbackground": true,
            "ticks": "",
            "zerolinecolor": "white"
           }
          },
          "shapedefaults": {
           "line": {
            "color": "#2a3f5f"
           }
          },
          "ternary": {
           "aaxis": {
            "gridcolor": "white",
            "linecolor": "white",
            "ticks": ""
           },
           "baxis": {
            "gridcolor": "white",
            "linecolor": "white",
            "ticks": ""
           },
           "bgcolor": "#E5ECF6",
           "caxis": {
            "gridcolor": "white",
            "linecolor": "white",
            "ticks": ""
           }
          },
          "title": {
           "x": 0.05
          },
          "xaxis": {
           "automargin": true,
           "gridcolor": "white",
           "linecolor": "white",
           "ticks": "",
           "zerolinecolor": "white",
           "zerolinewidth": 2
          },
          "yaxis": {
           "automargin": true,
           "gridcolor": "white",
           "linecolor": "white",
           "ticks": "",
           "zerolinecolor": "white",
           "zerolinewidth": 2
          }
         }
        },
        "title": {
         "text": "World Power Consumption Plot"
        }
       }
      },
      "text/html": [
       "<div>\n",
       "        \n",
       "        \n",
       "            <div id=\"e3861392-a3db-49b9-ad9a-a57a243e4304\" class=\"plotly-graph-div\" style=\"height:525px; width:100%;\"></div>\n",
       "            <script type=\"text/javascript\">\n",
       "                require([\"plotly\"], function(Plotly) {\n",
       "                    window.PLOTLYENV=window.PLOTLYENV || {};\n",
       "                    \n",
       "                if (document.getElementById(\"e3861392-a3db-49b9-ad9a-a57a243e4304\")) {\n",
       "                    Plotly.newPlot(\n",
       "                        'e3861392-a3db-49b9-ad9a-a57a243e4304',\n",
       "                        [{\"colorscale\": [[0.0, \"rgb(12,51,131)\"], [0.25, \"rgb(10,136,186)\"], [0.5, \"rgb(242,211,56)\"], [0.75, \"rgb(242,143,56)\"], [1.0, \"rgb(217,30,30)\"]], \"locationmode\": \"country names\", \"locations\": [\"China\", \"United States\", \"European\", \"Russia\", \"Japan\", \"India\", \"Germany\", \"Canada\", \"Brazil\", \"Korea,\", \"France\", \"United Kingdom\", \"Italy\", \"Taiwan\", \"Spain\", \"Mexico\", \"Saudi\", \"Australia\", \"South\", \"Turkey\", \"Iran\", \"Indonesia\", \"Ukraine\", \"Thailand\", \"Poland\", \"Egypt\", \"Sweden\", \"Norway\", \"Malaysia\", \"Argentina\", \"Netherlands\", \"Vietnam\", \"Venezuela\", \"United Arab Emirates\", \"Finland\", \"Belgium\", \"Kazakhstan\", \"Pakistan\", \"Philippines\", \"Austria\", \"Chile\", \"Czechia\", \"Israel\", \"Switzerland\", \"Greece\", \"Iraq\", \"Romania\", \"Kuwait\", \"Colombia\", \"Singapore\", \"Portugal\", \"Uzbekistan\", \"Hong\", \"Algeria\", \"Bangladesh\", \"New\", \"Bulgaria\", \"Belarus\", \"Peru\", \"Denmark\", \"Qatar\", \"Slovakia\", \"Libya\", \"Serbia\", \"Morocco\", \"Syria\", \"Nigeria\", \"Ireland\", \"Hungary\", \"Oman\", \"Ecuador\", \"Puerto\", \"Azerbaijan\", \"Croatia\", \"Iceland\", \"Cuba\", \"Korea,\", \"Dominican\", \"Jordan\", \"Tajikistan\", \"Tunisia\", \"Slovenia\", \"Lebanon\", \"Bosnia\", \"Turkmenistan\", \"Bahrain\", \"Mozambique\", \"Ghana\", \"Sri\", \"Kyrgyzstan\", \"Lithuania\", \"Uruguay\", \"Costa\", \"Guatemala\", \"Georgia\", \"Trinidad\", \"Zambia\", \"Paraguay\", \"Albania\", \"Burma\", \"Estonia\", \"Congo,\", \"Panama\", \"Latvia\", \"Macedonia\", \"Zimbabwe\", \"Kenya\", \"Bolivia\", \"Luxembourg\", \"Sudan\", \"El\", \"Cameroon\", \"West\", \"Ethiopia\", \"Armenia\", \"Honduras\", \"Angola\", \"Cote\", \"Tanzania\", \"Nicaragua\", \"Moldova\", \"Cyprus\", \"Macau\", \"Namibia\", \"Mongolia\", \"Afghanistan\", \"Yemen\", \"Brunei\", \"Cambodia\", \"Montenegro\", \"Nepal\", \"Botswana\", \"Papua\", \"Jamaica\", \"Kosovo\", \"Laos\", \"Uganda\", \"New\", \"Mauritius\", \"Senegal\", \"Bhutan\", \"Malawi\", \"Madagascar\", \"Bahamas,\", \"Gabon\", \"Suriname\", \"Guam\", \"Liechtenstein\", \"Swaziland\", \"Burkina\", \"Togo\", \"Curacao\", \"Mauritania\", \"Barbados\", \"Niger\", \"Aruba\", \"Benin\", \"Guinea\", \"Mali\", \"Fiji\", \"Congo,\", \"Virgin\", \"Lesotho\", \"South\", \"Bermuda\", \"French\", \"Jersey\", \"Belize\", \"Andorra\", \"Guyana\", \"Cayman\", \"Haiti\", \"Rwanda\", \"Saint\", \"Djibouti\", \"Seychelles\", \"Somalia\", \"Antigua\", \"Greenland\", \"Cabo\", \"Eritrea\", \"Burundi\", \"Liberia\", \"Maldives\", \"Faroe\", \"Gambia,\", \"Chad\", \"Micronesia,\", \"Grenada\", \"Central\", \"Turks\", \"Gibraltar\", \"American\", \"Sierra\", \"Saint\", \"Saint\", \"Timor-Leste\", \"Equatorial\", \"Samoa\", \"Dominica\", \"Western\", \"Solomon\", \"Sao\", \"British\", \"Vanuatu\", \"Guinea-Bissau\", \"Tonga\", \"Saint\", \"Comoros\", \"Cook\", \"Kiribati\", \"Montserrat\", \"Nauru\", \"Falkland\", \"Saint\", \"Niue\", \"Gaza\", \"Malta\", \"Northern\"], \"text\": [\"China\", \"United States\", \"European\", \"Russia\", \"Japan\", \"India\", \"Germany\", \"Canada\", \"Brazil\", \"Korea,\", \"France\", \"United Kingdom\", \"Italy\", \"Taiwan\", \"Spain\", \"Mexico\", \"Saudi\", \"Australia\", \"South\", \"Turkey\", \"Iran\", \"Indonesia\", \"Ukraine\", \"Thailand\", \"Poland\", \"Egypt\", \"Sweden\", \"Norway\", \"Malaysia\", \"Argentina\", \"Netherlands\", \"Vietnam\", \"Venezuela\", \"United Arab Emirates\", \"Finland\", \"Belgium\", \"Kazakhstan\", \"Pakistan\", \"Philippines\", \"Austria\", \"Chile\", \"Czechia\", \"Israel\", \"Switzerland\", \"Greece\", \"Iraq\", \"Romania\", \"Kuwait\", \"Colombia\", \"Singapore\", \"Portugal\", \"Uzbekistan\", \"Hong\", \"Algeria\", \"Bangladesh\", \"New\", \"Bulgaria\", \"Belarus\", \"Peru\", \"Denmark\", \"Qatar\", \"Slovakia\", \"Libya\", \"Serbia\", \"Morocco\", \"Syria\", \"Nigeria\", \"Ireland\", \"Hungary\", \"Oman\", \"Ecuador\", \"Puerto\", \"Azerbaijan\", \"Croatia\", \"Iceland\", \"Cuba\", \"Korea,\", \"Dominican\", \"Jordan\", \"Tajikistan\", \"Tunisia\", \"Slovenia\", \"Lebanon\", \"Bosnia\", \"Turkmenistan\", \"Bahrain\", \"Mozambique\", \"Ghana\", \"Sri\", \"Kyrgyzstan\", \"Lithuania\", \"Uruguay\", \"Costa\", \"Guatemala\", \"Georgia\", \"Trinidad\", \"Zambia\", \"Paraguay\", \"Albania\", \"Burma\", \"Estonia\", \"Congo,\", \"Panama\", \"Latvia\", \"Macedonia\", \"Zimbabwe\", \"Kenya\", \"Bolivia\", \"Luxembourg\", \"Sudan\", \"El\", \"Cameroon\", \"West\", \"Ethiopia\", \"Armenia\", \"Honduras\", \"Angola\", \"Cote\", \"Tanzania\", \"Nicaragua\", \"Moldova\", \"Cyprus\", \"Macau\", \"Namibia\", \"Mongolia\", \"Afghanistan\", \"Yemen\", \"Brunei\", \"Cambodia\", \"Montenegro\", \"Nepal\", \"Botswana\", \"Papua\", \"Jamaica\", \"Kosovo\", \"Laos\", \"Uganda\", \"New\", \"Mauritius\", \"Senegal\", \"Bhutan\", \"Malawi\", \"Madagascar\", \"Bahamas,\", \"Gabon\", \"Suriname\", \"Guam\", \"Liechtenstein\", \"Swaziland\", \"Burkina\", \"Togo\", \"Curacao\", \"Mauritania\", \"Barbados\", \"Niger\", \"Aruba\", \"Benin\", \"Guinea\", \"Mali\", \"Fiji\", \"Congo,\", \"Virgin\", \"Lesotho\", \"South\", \"Bermuda\", \"French\", \"Jersey\", \"Belize\", \"Andorra\", \"Guyana\", \"Cayman\", \"Haiti\", \"Rwanda\", \"Saint\", \"Djibouti\", \"Seychelles\", \"Somalia\", \"Antigua\", \"Greenland\", \"Cabo\", \"Eritrea\", \"Burundi\", \"Liberia\", \"Maldives\", \"Faroe\", \"Gambia,\", \"Chad\", \"Micronesia,\", \"Grenada\", \"Central\", \"Turks\", \"Gibraltar\", \"American\", \"Sierra\", \"Saint\", \"Saint\", \"Timor-Leste\", \"Equatorial\", \"Samoa\", \"Dominica\", \"Western\", \"Solomon\", \"Sao\", \"British\", \"Vanuatu\", \"Guinea-Bissau\", \"Tonga\", \"Saint\", \"Comoros\", \"Cook\", \"Kiribati\", \"Montserrat\", \"Nauru\", \"Falkland\", \"Saint\", \"Niue\", \"Gaza\", \"Malta\", \"Northern\"], \"type\": \"choropleth\", \"z\": [5523000000000.0, 3832000000000.0, 2771000000000.0, 1065000000000.0, 921000000000.0, 864700000000.0, 540100000000.0, 511000000000.0, 483500000000.0, 482400000000.0, 451100000000.0, 319100000000.0, 303100000000.0, 249500000000.0, 243100000000.0, 234000000000.0, 231600000000.0, 222600000000.0, 211600000000.0, 197000000000.0, 195300000000.0, 167500000000.0, 159800000000.0, 155900000000.0, 139000000000.0, 135600000000.0, 130500000000.0, 126400000000.0, 118500000000.0, 117100000000.0, 116800000000.0, 108300000000.0, 97690000000.0, 93280000000.0, 82040000000.0, 81890000000.0, 80290000000.0, 78890000000.0, 75270000000.0, 69750000000.0, 63390000000.0, 60550000000.0, 59830000000.0, 58010000000.0, 57730000000.0, 53410000000.0, 50730000000.0, 50000000000.0, 49380000000.0, 47180000000.0, 46250000000.0, 45210000000.0, 44210000000.0, 42870000000.0, 41520000000.0, 40300000000.0, 37990000000.0, 37880000000.0, 35690000000.0, 31960000000.0, 30530000000.0, 28360000000.0, 27540000000.0, 26910000000.0, 26700000000.0, 25700000000.0, 24780000000.0, 24240000000.0, 21550000000.0, 20360000000.0, 19020000000.0, 18620000000.0, 17790000000.0, 16970000000.0, 16940000000.0, 16200000000.0, 16000000000.0, 15140000000.0, 14560000000.0, 14420000000.0, 13310000000.0, 13020000000.0, 12940000000.0, 12560000000.0, 11750000000.0, 11690000000.0, 11280000000.0, 10580000000.0, 10170000000.0, 9943000000.0, 9664000000.0, 9559000000.0, 8987000000.0, 8915000000.0, 8468000000.0, 8365000000.0, 8327000000.0, 8125000000.0, 7793000000.0, 7765000000.0, 7417000000.0, 7292000000.0, 7144000000.0, 7141000000.0, 6960000000.0, 6831000000.0, 6627000000.0, 6456000000.0, 6108000000.0, 5665000000.0, 5665000000.0, 5535000000.0, 5312000000.0, 5227000000.0, 5043000000.0, 5036000000.0, 4842000000.0, 4731000000.0, 4545000000.0, 4412000000.0, 4305000000.0, 4296000000.0, 4291000000.0, 4238000000.0, 4204000000.0, 3893000000.0, 3838000000.0, 3766000000.0, 3553000000.0, 3465000000.0, 3239000000.0, 3213000000.0, 3116000000.0, 3008000000.0, 2887000000.0, 2874000000.0, 2821000000.0, 2716000000.0, 2658000000.0, 2586000000.0, 2085000000.0, 2027000000.0, 1883000000.0, 1716000000.0, 1680000000.0, 1572000000.0, 1566000000.0, 1360000000.0, 1295000000.0, 985500000.0, 976000000.0, 968000000.0, 962600000.0, 938000000.0, 930200000.0, 920700000.0, 911000000.0, 903000000.0, 882600000.0, 777600000.0, 740000000.0, 723500000.0, 707000000.0, 694100000.0, 664200000.0, 652900000.0, 630100000.0, 605000000.0, 562400000.0, 558000000.0, 545900000.0, 452000000.0, 365500000.0, 336400000.0, 311600000.0, 293900000.0, 293000000.0, 293000000.0, 292000000.0, 285500000.0, 284000000.0, 282900000.0, 276900000.0, 267100000.0, 261300000.0, 218600000.0, 190700000.0, 178600000.0, 178000000.0, 168300000.0, 167400000.0, 160000000.0, 146000000.0, 134900000.0, 130200000.0, 127400000.0, 125300000.0, 93000000.0, 90400000.0, 89750000.0, 83700000.0, 79050000.0, 60450000.0, 51150000.0, 49290000.0, 46500000.0, 44640000.0, 39990000.0, 39990000.0, 28950000.0, 24180000.0, 23250000.0, 23250000.0, 11160000.0, 7440000.0, 2790000.0, 202000.0, 174700.0, 48300.0]}],\n",
       "                        {\"geo\": {\"projection\": {\"type\": \"equirectangular\"}, \"showframe\": false}, \"template\": {\"data\": {\"bar\": [{\"error_x\": {\"color\": \"#2a3f5f\"}, \"error_y\": {\"color\": \"#2a3f5f\"}, \"marker\": {\"line\": {\"color\": \"#E5ECF6\", \"width\": 0.5}}, \"type\": \"bar\"}], \"barpolar\": [{\"marker\": {\"line\": {\"color\": \"#E5ECF6\", \"width\": 0.5}}, \"type\": \"barpolar\"}], \"carpet\": [{\"aaxis\": {\"endlinecolor\": \"#2a3f5f\", \"gridcolor\": \"white\", \"linecolor\": \"white\", \"minorgridcolor\": \"white\", \"startlinecolor\": \"#2a3f5f\"}, \"baxis\": {\"endlinecolor\": \"#2a3f5f\", \"gridcolor\": \"white\", \"linecolor\": \"white\", \"minorgridcolor\": \"white\", \"startlinecolor\": \"#2a3f5f\"}, \"type\": \"carpet\"}], \"choropleth\": [{\"colorbar\": {\"outlinewidth\": 0, \"ticks\": \"\"}, \"type\": \"choropleth\"}], \"contour\": [{\"colorbar\": {\"outlinewidth\": 0, \"ticks\": \"\"}, \"colorscale\": [[0.0, \"#0d0887\"], [0.1111111111111111, \"#46039f\"], [0.2222222222222222, \"#7201a8\"], [0.3333333333333333, \"#9c179e\"], [0.4444444444444444, \"#bd3786\"], [0.5555555555555556, \"#d8576b\"], [0.6666666666666666, \"#ed7953\"], [0.7777777777777778, \"#fb9f3a\"], [0.8888888888888888, \"#fdca26\"], [1.0, \"#f0f921\"]], \"type\": \"contour\"}], \"contourcarpet\": [{\"colorbar\": {\"outlinewidth\": 0, \"ticks\": \"\"}, \"type\": \"contourcarpet\"}], \"heatmap\": [{\"colorbar\": {\"outlinewidth\": 0, \"ticks\": \"\"}, \"colorscale\": [[0.0, \"#0d0887\"], [0.1111111111111111, \"#46039f\"], [0.2222222222222222, \"#7201a8\"], [0.3333333333333333, \"#9c179e\"], [0.4444444444444444, \"#bd3786\"], [0.5555555555555556, \"#d8576b\"], [0.6666666666666666, \"#ed7953\"], [0.7777777777777778, \"#fb9f3a\"], [0.8888888888888888, \"#fdca26\"], [1.0, \"#f0f921\"]], \"type\": \"heatmap\"}], \"heatmapgl\": [{\"colorbar\": {\"outlinewidth\": 0, \"ticks\": \"\"}, \"colorscale\": [[0.0, \"#0d0887\"], [0.1111111111111111, \"#46039f\"], [0.2222222222222222, \"#7201a8\"], [0.3333333333333333, \"#9c179e\"], [0.4444444444444444, \"#bd3786\"], [0.5555555555555556, \"#d8576b\"], [0.6666666666666666, \"#ed7953\"], [0.7777777777777778, \"#fb9f3a\"], [0.8888888888888888, \"#fdca26\"], [1.0, \"#f0f921\"]], \"type\": \"heatmapgl\"}], \"histogram\": [{\"marker\": {\"colorbar\": {\"outlinewidth\": 0, \"ticks\": \"\"}}, \"type\": \"histogram\"}], \"histogram2d\": [{\"colorbar\": {\"outlinewidth\": 0, \"ticks\": \"\"}, \"colorscale\": [[0.0, \"#0d0887\"], [0.1111111111111111, \"#46039f\"], [0.2222222222222222, \"#7201a8\"], [0.3333333333333333, \"#9c179e\"], [0.4444444444444444, \"#bd3786\"], [0.5555555555555556, \"#d8576b\"], [0.6666666666666666, \"#ed7953\"], [0.7777777777777778, \"#fb9f3a\"], [0.8888888888888888, \"#fdca26\"], [1.0, \"#f0f921\"]], \"type\": \"histogram2d\"}], \"histogram2dcontour\": [{\"colorbar\": {\"outlinewidth\": 0, \"ticks\": \"\"}, \"colorscale\": [[0.0, \"#0d0887\"], [0.1111111111111111, \"#46039f\"], [0.2222222222222222, \"#7201a8\"], [0.3333333333333333, \"#9c179e\"], [0.4444444444444444, \"#bd3786\"], [0.5555555555555556, \"#d8576b\"], [0.6666666666666666, \"#ed7953\"], [0.7777777777777778, \"#fb9f3a\"], [0.8888888888888888, \"#fdca26\"], [1.0, \"#f0f921\"]], \"type\": \"histogram2dcontour\"}], \"mesh3d\": [{\"colorbar\": {\"outlinewidth\": 0, \"ticks\": \"\"}, \"type\": \"mesh3d\"}], \"parcoords\": [{\"line\": {\"colorbar\": {\"outlinewidth\": 0, \"ticks\": \"\"}}, \"type\": \"parcoords\"}], \"scatter\": [{\"marker\": {\"colorbar\": {\"outlinewidth\": 0, \"ticks\": \"\"}}, \"type\": \"scatter\"}], \"scatter3d\": [{\"line\": {\"colorbar\": {\"outlinewidth\": 0, \"ticks\": \"\"}}, \"marker\": {\"colorbar\": {\"outlinewidth\": 0, \"ticks\": \"\"}}, \"type\": \"scatter3d\"}], \"scattercarpet\": [{\"marker\": {\"colorbar\": {\"outlinewidth\": 0, \"ticks\": \"\"}}, \"type\": \"scattercarpet\"}], \"scattergeo\": [{\"marker\": {\"colorbar\": {\"outlinewidth\": 0, \"ticks\": \"\"}}, \"type\": \"scattergeo\"}], \"scattergl\": [{\"marker\": {\"colorbar\": {\"outlinewidth\": 0, \"ticks\": \"\"}}, \"type\": \"scattergl\"}], \"scattermapbox\": [{\"marker\": {\"colorbar\": {\"outlinewidth\": 0, \"ticks\": \"\"}}, \"type\": \"scattermapbox\"}], \"scatterpolar\": [{\"marker\": {\"colorbar\": {\"outlinewidth\": 0, \"ticks\": \"\"}}, \"type\": \"scatterpolar\"}], \"scatterpolargl\": [{\"marker\": {\"colorbar\": {\"outlinewidth\": 0, \"ticks\": \"\"}}, \"type\": \"scatterpolargl\"}], \"scatterternary\": [{\"marker\": {\"colorbar\": {\"outlinewidth\": 0, \"ticks\": \"\"}}, \"type\": \"scatterternary\"}], \"surface\": [{\"colorbar\": {\"outlinewidth\": 0, \"ticks\": \"\"}, \"colorscale\": [[0.0, \"#0d0887\"], [0.1111111111111111, \"#46039f\"], [0.2222222222222222, \"#7201a8\"], [0.3333333333333333, \"#9c179e\"], [0.4444444444444444, \"#bd3786\"], [0.5555555555555556, \"#d8576b\"], [0.6666666666666666, \"#ed7953\"], [0.7777777777777778, \"#fb9f3a\"], [0.8888888888888888, \"#fdca26\"], [1.0, \"#f0f921\"]], \"type\": \"surface\"}], \"table\": [{\"cells\": {\"fill\": {\"color\": \"#EBF0F8\"}, \"line\": {\"color\": \"white\"}}, \"header\": {\"fill\": {\"color\": \"#C8D4E3\"}, \"line\": {\"color\": \"white\"}}, \"type\": \"table\"}]}, \"layout\": {\"annotationdefaults\": {\"arrowcolor\": \"#2a3f5f\", \"arrowhead\": 0, \"arrowwidth\": 1}, \"colorscale\": {\"diverging\": [[0, \"#8e0152\"], [0.1, \"#c51b7d\"], [0.2, \"#de77ae\"], [0.3, \"#f1b6da\"], [0.4, \"#fde0ef\"], [0.5, \"#f7f7f7\"], [0.6, \"#e6f5d0\"], [0.7, \"#b8e186\"], [0.8, \"#7fbc41\"], [0.9, \"#4d9221\"], [1, \"#276419\"]], \"sequential\": [[0.0, \"#0d0887\"], [0.1111111111111111, \"#46039f\"], [0.2222222222222222, \"#7201a8\"], [0.3333333333333333, \"#9c179e\"], [0.4444444444444444, \"#bd3786\"], [0.5555555555555556, \"#d8576b\"], [0.6666666666666666, \"#ed7953\"], [0.7777777777777778, \"#fb9f3a\"], [0.8888888888888888, \"#fdca26\"], [1.0, \"#f0f921\"]], \"sequentialminus\": [[0.0, \"#0d0887\"], [0.1111111111111111, \"#46039f\"], [0.2222222222222222, \"#7201a8\"], [0.3333333333333333, \"#9c179e\"], [0.4444444444444444, \"#bd3786\"], [0.5555555555555556, \"#d8576b\"], [0.6666666666666666, \"#ed7953\"], [0.7777777777777778, \"#fb9f3a\"], [0.8888888888888888, \"#fdca26\"], [1.0, \"#f0f921\"]]}, \"colorway\": [\"#636efa\", \"#EF553B\", \"#00cc96\", \"#ab63fa\", \"#FFA15A\", \"#19d3f3\", \"#FF6692\", \"#B6E880\", \"#FF97FF\", \"#FECB52\"], \"font\": {\"color\": \"#2a3f5f\"}, \"geo\": {\"bgcolor\": \"white\", \"lakecolor\": \"white\", \"landcolor\": \"#E5ECF6\", \"showlakes\": true, \"showland\": true, \"subunitcolor\": \"white\"}, \"hoverlabel\": {\"align\": \"left\"}, \"hovermode\": \"closest\", \"mapbox\": {\"style\": \"light\"}, \"paper_bgcolor\": \"white\", \"plot_bgcolor\": \"#E5ECF6\", \"polar\": {\"angularaxis\": {\"gridcolor\": \"white\", \"linecolor\": \"white\", \"ticks\": \"\"}, \"bgcolor\": \"#E5ECF6\", \"radialaxis\": {\"gridcolor\": \"white\", \"linecolor\": \"white\", \"ticks\": \"\"}}, \"scene\": {\"xaxis\": {\"backgroundcolor\": \"#E5ECF6\", \"gridcolor\": \"white\", \"gridwidth\": 2, \"linecolor\": \"white\", \"showbackground\": true, \"ticks\": \"\", \"zerolinecolor\": \"white\"}, \"yaxis\": {\"backgroundcolor\": \"#E5ECF6\", \"gridcolor\": \"white\", \"gridwidth\": 2, \"linecolor\": \"white\", \"showbackground\": true, \"ticks\": \"\", \"zerolinecolor\": \"white\"}, \"zaxis\": {\"backgroundcolor\": \"#E5ECF6\", \"gridcolor\": \"white\", \"gridwidth\": 2, \"linecolor\": \"white\", \"showbackground\": true, \"ticks\": \"\", \"zerolinecolor\": \"white\"}}, \"shapedefaults\": {\"line\": {\"color\": \"#2a3f5f\"}}, \"ternary\": {\"aaxis\": {\"gridcolor\": \"white\", \"linecolor\": \"white\", \"ticks\": \"\"}, \"baxis\": {\"gridcolor\": \"white\", \"linecolor\": \"white\", \"ticks\": \"\"}, \"bgcolor\": \"#E5ECF6\", \"caxis\": {\"gridcolor\": \"white\", \"linecolor\": \"white\", \"ticks\": \"\"}}, \"title\": {\"x\": 0.05}, \"xaxis\": {\"automargin\": true, \"gridcolor\": \"white\", \"linecolor\": \"white\", \"ticks\": \"\", \"zerolinecolor\": \"white\", \"zerolinewidth\": 2}, \"yaxis\": {\"automargin\": true, \"gridcolor\": \"white\", \"linecolor\": \"white\", \"ticks\": \"\", \"zerolinecolor\": \"white\", \"zerolinewidth\": 2}}}, \"title\": {\"text\": \"World Power Consumption Plot\"}},\n",
       "                        {\"responsive\": true}\n",
       "                    ).then(function(){\n",
       "                            \n",
       "var gd = document.getElementById('e3861392-a3db-49b9-ad9a-a57a243e4304');\n",
       "var x = new MutationObserver(function (mutations, observer) {{\n",
       "        var display = window.getComputedStyle(gd).display;\n",
       "        if (!display || display === 'none') {{\n",
       "            console.log([gd, 'removed!']);\n",
       "            Plotly.purge(gd);\n",
       "            observer.disconnect();\n",
       "        }}\n",
       "}});\n",
       "\n",
       "// Listen for the removal of the full notebook cells\n",
       "var notebookContainer = gd.closest('#notebook-container');\n",
       "if (notebookContainer) {{\n",
       "    x.observe(notebookContainer, {childList: true});\n",
       "}}\n",
       "\n",
       "// Listen for the clearing of the current output cell\n",
       "var outputEl = gd.closest('.output');\n",
       "if (outputEl) {{\n",
       "    x.observe(outputEl, {childList: true});\n",
       "}}\n",
       "\n",
       "                        })\n",
       "                };\n",
       "                });\n",
       "            </script>\n",
       "        </div>"
      ]
     },
     "metadata": {},
     "output_type": "display_data"
    }
   ],
   "source": [
    "iplot(choromap)"
   ]
  },
  {
   "cell_type": "code",
   "execution_count": 124,
   "metadata": {},
   "outputs": [
    {
     "data": {
      "text/html": [
       "<div>\n",
       "<style scoped>\n",
       "    .dataframe tbody tr th:only-of-type {\n",
       "        vertical-align: middle;\n",
       "    }\n",
       "\n",
       "    .dataframe tbody tr th {\n",
       "        vertical-align: top;\n",
       "    }\n",
       "\n",
       "    .dataframe thead th {\n",
       "        text-align: right;\n",
       "    }\n",
       "</style>\n",
       "<table border=\"1\" class=\"dataframe\">\n",
       "  <thead>\n",
       "    <tr style=\"text-align: right;\">\n",
       "      <th></th>\n",
       "      <th>Year</th>\n",
       "      <th>ICPSR State Code</th>\n",
       "      <th>Alphanumeric State Code</th>\n",
       "      <th>State</th>\n",
       "      <th>VEP Total Ballots Counted</th>\n",
       "      <th>VEP Highest Office</th>\n",
       "      <th>VAP Highest Office</th>\n",
       "      <th>Total Ballots Counted</th>\n",
       "      <th>Highest Office</th>\n",
       "      <th>Voting-Eligible Population (VEP)</th>\n",
       "      <th>Voting-Age Population (VAP)</th>\n",
       "      <th>% Non-citizen</th>\n",
       "      <th>Prison</th>\n",
       "      <th>Probation</th>\n",
       "      <th>Parole</th>\n",
       "      <th>Total Ineligible Felon</th>\n",
       "      <th>State Abv</th>\n",
       "    </tr>\n",
       "  </thead>\n",
       "  <tbody>\n",
       "    <tr>\n",
       "      <th>0</th>\n",
       "      <td>2012</td>\n",
       "      <td>41</td>\n",
       "      <td>1</td>\n",
       "      <td>Alabama</td>\n",
       "      <td>NaN</td>\n",
       "      <td>58.6%</td>\n",
       "      <td>56.0%</td>\n",
       "      <td>NaN</td>\n",
       "      <td>2,074,338</td>\n",
       "      <td>3,539,217</td>\n",
       "      <td>3707440.0</td>\n",
       "      <td>2.6%</td>\n",
       "      <td>32,232</td>\n",
       "      <td>57,993</td>\n",
       "      <td>8,616</td>\n",
       "      <td>71,584</td>\n",
       "      <td>AL</td>\n",
       "    </tr>\n",
       "    <tr>\n",
       "      <th>1</th>\n",
       "      <td>2012</td>\n",
       "      <td>81</td>\n",
       "      <td>2</td>\n",
       "      <td>Alaska</td>\n",
       "      <td>58.9%</td>\n",
       "      <td>58.7%</td>\n",
       "      <td>55.3%</td>\n",
       "      <td>301,694</td>\n",
       "      <td>300,495</td>\n",
       "      <td>511,792</td>\n",
       "      <td>543763.0</td>\n",
       "      <td>3.8%</td>\n",
       "      <td>5,633</td>\n",
       "      <td>7,173</td>\n",
       "      <td>1,882</td>\n",
       "      <td>11,317</td>\n",
       "      <td>AK</td>\n",
       "    </tr>\n",
       "    <tr>\n",
       "      <th>2</th>\n",
       "      <td>2012</td>\n",
       "      <td>61</td>\n",
       "      <td>3</td>\n",
       "      <td>Arizona</td>\n",
       "      <td>53.0%</td>\n",
       "      <td>52.6%</td>\n",
       "      <td>46.5%</td>\n",
       "      <td>2,323,579</td>\n",
       "      <td>2,306,559</td>\n",
       "      <td>4,387,900</td>\n",
       "      <td>4959270.0</td>\n",
       "      <td>9.9%</td>\n",
       "      <td>35,188</td>\n",
       "      <td>72,452</td>\n",
       "      <td>7,460</td>\n",
       "      <td>81,048</td>\n",
       "      <td>AZ</td>\n",
       "    </tr>\n",
       "    <tr>\n",
       "      <th>3</th>\n",
       "      <td>2012</td>\n",
       "      <td>42</td>\n",
       "      <td>4</td>\n",
       "      <td>Arkansas</td>\n",
       "      <td>51.1%</td>\n",
       "      <td>50.7%</td>\n",
       "      <td>47.7%</td>\n",
       "      <td>1,078,548</td>\n",
       "      <td>1,069,468</td>\n",
       "      <td>2,109,847</td>\n",
       "      <td>2242740.0</td>\n",
       "      <td>3.5%</td>\n",
       "      <td>14,471</td>\n",
       "      <td>30,122</td>\n",
       "      <td>23,372</td>\n",
       "      <td>53,808</td>\n",
       "      <td>AR</td>\n",
       "    </tr>\n",
       "    <tr>\n",
       "      <th>4</th>\n",
       "      <td>2012</td>\n",
       "      <td>71</td>\n",
       "      <td>5</td>\n",
       "      <td>California</td>\n",
       "      <td>55.7%</td>\n",
       "      <td>55.1%</td>\n",
       "      <td>45.1%</td>\n",
       "      <td>13,202,158</td>\n",
       "      <td>13,038,547</td>\n",
       "      <td>23,681,837</td>\n",
       "      <td>28913129.0</td>\n",
       "      <td>17.4%</td>\n",
       "      <td>119,455</td>\n",
       "      <td>0</td>\n",
       "      <td>89,287</td>\n",
       "      <td>208,742</td>\n",
       "      <td>CA</td>\n",
       "    </tr>\n",
       "  </tbody>\n",
       "</table>\n",
       "</div>"
      ],
      "text/plain": [
       "   Year  ICPSR State Code  Alphanumeric State Code       State  \\\n",
       "0  2012                41                        1     Alabama   \n",
       "1  2012                81                        2      Alaska   \n",
       "2  2012                61                        3     Arizona   \n",
       "3  2012                42                        4    Arkansas   \n",
       "4  2012                71                        5  California   \n",
       "\n",
       "  VEP Total Ballots Counted VEP Highest Office VAP Highest Office  \\\n",
       "0                       NaN              58.6%              56.0%   \n",
       "1                     58.9%              58.7%              55.3%   \n",
       "2                     53.0%              52.6%              46.5%   \n",
       "3                     51.1%              50.7%              47.7%   \n",
       "4                     55.7%              55.1%              45.1%   \n",
       "\n",
       "  Total Ballots Counted Highest Office Voting-Eligible Population (VEP)  \\\n",
       "0                   NaN      2,074,338                        3,539,217   \n",
       "1               301,694        300,495                          511,792   \n",
       "2             2,323,579      2,306,559                        4,387,900   \n",
       "3             1,078,548      1,069,468                        2,109,847   \n",
       "4            13,202,158     13,038,547                       23,681,837   \n",
       "\n",
       "   Voting-Age Population (VAP) % Non-citizen   Prison Probation  Parole  \\\n",
       "0                    3707440.0          2.6%   32,232    57,993   8,616   \n",
       "1                     543763.0          3.8%    5,633     7,173   1,882   \n",
       "2                    4959270.0          9.9%   35,188    72,452   7,460   \n",
       "3                    2242740.0          3.5%   14,471    30,122  23,372   \n",
       "4                   28913129.0         17.4%  119,455         0  89,287   \n",
       "\n",
       "  Total Ineligible Felon State Abv  \n",
       "0                 71,584        AL  \n",
       "1                 11,317        AK  \n",
       "2                 81,048        AZ  \n",
       "3                 53,808        AR  \n",
       "4                208,742        CA  "
      ]
     },
     "execution_count": 124,
     "metadata": {},
     "output_type": "execute_result"
    }
   ],
   "source": [
    "df=pd.read_csv('2012_Election_Data')\n",
    "df.head()"
   ]
  },
  {
   "cell_type": "code",
   "execution_count": 125,
   "metadata": {},
   "outputs": [],
   "source": [
    "data=dict(type='choropleth',\n",
    "          colorscale='Portland',\n",
    "          locations=df['State Abv'],\n",
    "          locationmode='USA-states',\n",
    "          z=df['Voting-Age Population (VAP)'],\n",
    "          text=df['State'], \n",
    "         )"
   ]
  },
  {
   "cell_type": "code",
   "execution_count": 126,
   "metadata": {},
   "outputs": [],
   "source": [
    "layout=dict(title='USA-State Prison Plot',\n",
    "           geo=dict(scope='usa',\n",
    "                    showlakes=True,)\n",
    "           )"
   ]
  },
  {
   "cell_type": "code",
   "execution_count": 127,
   "metadata": {},
   "outputs": [],
   "source": [
    "choromap=go.Figure(data=[data],layout=layout)"
   ]
  },
  {
   "cell_type": "code",
   "execution_count": 128,
   "metadata": {},
   "outputs": [
    {
     "data": {
      "application/vnd.plotly.v1+json": {
       "config": {
        "linkText": "Export to plot.ly",
        "plotlyServerURL": "https://plot.ly",
        "showLink": false
       },
       "data": [
        {
         "colorscale": [
          [
           0,
           "rgb(12,51,131)"
          ],
          [
           0.25,
           "rgb(10,136,186)"
          ],
          [
           0.5,
           "rgb(242,211,56)"
          ],
          [
           0.75,
           "rgb(242,143,56)"
          ],
          [
           1,
           "rgb(217,30,30)"
          ]
         ],
         "locationmode": "USA-states",
         "locations": [
          "AL",
          "AK",
          "AZ",
          "AR",
          "CA",
          "CO",
          "CT",
          "DE",
          "District of Columbia",
          "FL",
          "GA",
          "HI",
          "ID",
          "IL",
          "IN",
          "IA",
          "KS",
          "KY",
          "LA",
          "ME",
          "MD",
          "MA",
          "MI",
          "MN",
          "MS",
          "MO",
          "MT",
          "NE",
          "NV",
          "NH",
          "NJ",
          "NM",
          "NY",
          "NC",
          "ND",
          "OH",
          "OK",
          "OR",
          "PA",
          "RI",
          "SC",
          "SD",
          "TN",
          "TX",
          "UT",
          "VT",
          "VA",
          "WA",
          "WV",
          "WI",
          "WY"
         ],
         "text": [
          "Alabama",
          "Alaska",
          "Arizona",
          "Arkansas",
          "California",
          "Colorado",
          "Connecticut",
          "Delaware",
          "District of Columbia",
          "Florida",
          "Georgia",
          "Hawaii",
          "Idaho",
          "Illinois",
          "Indiana",
          "Iowa",
          "Kansas",
          "Kentucky",
          "Louisiana",
          "Maine",
          "Maryland",
          "Massachusetts",
          "Michigan",
          "Minnesota",
          "Mississippi",
          "Missouri",
          "Montana",
          "Nebraska",
          "Nevada",
          "New Hampshire",
          "New Jersey",
          "New Mexico",
          "New York",
          "North Carolina",
          "North Dakota",
          "Ohio",
          "Oklahoma",
          "Oregon",
          "Pennsylvania",
          "Rhode Island",
          "South Carolina",
          "South Dakota",
          "Tennessee",
          "Texas",
          "Utah",
          "Vermont",
          "Virginia",
          "Washington",
          "West Virginia",
          "Wisconsin",
          "Wyoming"
         ],
         "type": "choropleth",
         "z": [
          3707440,
          543763,
          4959270,
          2242740,
          28913129,
          3981208,
          2801375,
          715708,
          528848,
          15380947,
          7452696,
          1088335,
          1173727,
          9827043,
          4960376,
          2356209,
          2162442,
          3368684,
          3495847,
          1064779,
          4553853,
          5263550,
          7625576,
          4114820,
          2246931,
          4628500,
          785454,
          1396507,
          2105976,
          1047978,
          6847503,
          1573400,
          15344671,
          7496980,
          549955,
          8896930,
          2885093,
          3050747,
          10037099,
          834983,
          3662322,
          631472,
          4976284,
          19185395,
          1978956,
          502242,
          6348827,
          5329782,
          1472642,
          4417273,
          441726
         ]
        }
       ],
       "layout": {
        "geo": {
         "scope": "usa",
         "showlakes": true
        },
        "template": {
         "data": {
          "bar": [
           {
            "error_x": {
             "color": "#2a3f5f"
            },
            "error_y": {
             "color": "#2a3f5f"
            },
            "marker": {
             "line": {
              "color": "#E5ECF6",
              "width": 0.5
             }
            },
            "type": "bar"
           }
          ],
          "barpolar": [
           {
            "marker": {
             "line": {
              "color": "#E5ECF6",
              "width": 0.5
             }
            },
            "type": "barpolar"
           }
          ],
          "carpet": [
           {
            "aaxis": {
             "endlinecolor": "#2a3f5f",
             "gridcolor": "white",
             "linecolor": "white",
             "minorgridcolor": "white",
             "startlinecolor": "#2a3f5f"
            },
            "baxis": {
             "endlinecolor": "#2a3f5f",
             "gridcolor": "white",
             "linecolor": "white",
             "minorgridcolor": "white",
             "startlinecolor": "#2a3f5f"
            },
            "type": "carpet"
           }
          ],
          "choropleth": [
           {
            "colorbar": {
             "outlinewidth": 0,
             "ticks": ""
            },
            "type": "choropleth"
           }
          ],
          "contour": [
           {
            "colorbar": {
             "outlinewidth": 0,
             "ticks": ""
            },
            "colorscale": [
             [
              0,
              "#0d0887"
             ],
             [
              0.1111111111111111,
              "#46039f"
             ],
             [
              0.2222222222222222,
              "#7201a8"
             ],
             [
              0.3333333333333333,
              "#9c179e"
             ],
             [
              0.4444444444444444,
              "#bd3786"
             ],
             [
              0.5555555555555556,
              "#d8576b"
             ],
             [
              0.6666666666666666,
              "#ed7953"
             ],
             [
              0.7777777777777778,
              "#fb9f3a"
             ],
             [
              0.8888888888888888,
              "#fdca26"
             ],
             [
              1,
              "#f0f921"
             ]
            ],
            "type": "contour"
           }
          ],
          "contourcarpet": [
           {
            "colorbar": {
             "outlinewidth": 0,
             "ticks": ""
            },
            "type": "contourcarpet"
           }
          ],
          "heatmap": [
           {
            "colorbar": {
             "outlinewidth": 0,
             "ticks": ""
            },
            "colorscale": [
             [
              0,
              "#0d0887"
             ],
             [
              0.1111111111111111,
              "#46039f"
             ],
             [
              0.2222222222222222,
              "#7201a8"
             ],
             [
              0.3333333333333333,
              "#9c179e"
             ],
             [
              0.4444444444444444,
              "#bd3786"
             ],
             [
              0.5555555555555556,
              "#d8576b"
             ],
             [
              0.6666666666666666,
              "#ed7953"
             ],
             [
              0.7777777777777778,
              "#fb9f3a"
             ],
             [
              0.8888888888888888,
              "#fdca26"
             ],
             [
              1,
              "#f0f921"
             ]
            ],
            "type": "heatmap"
           }
          ],
          "heatmapgl": [
           {
            "colorbar": {
             "outlinewidth": 0,
             "ticks": ""
            },
            "colorscale": [
             [
              0,
              "#0d0887"
             ],
             [
              0.1111111111111111,
              "#46039f"
             ],
             [
              0.2222222222222222,
              "#7201a8"
             ],
             [
              0.3333333333333333,
              "#9c179e"
             ],
             [
              0.4444444444444444,
              "#bd3786"
             ],
             [
              0.5555555555555556,
              "#d8576b"
             ],
             [
              0.6666666666666666,
              "#ed7953"
             ],
             [
              0.7777777777777778,
              "#fb9f3a"
             ],
             [
              0.8888888888888888,
              "#fdca26"
             ],
             [
              1,
              "#f0f921"
             ]
            ],
            "type": "heatmapgl"
           }
          ],
          "histogram": [
           {
            "marker": {
             "colorbar": {
              "outlinewidth": 0,
              "ticks": ""
             }
            },
            "type": "histogram"
           }
          ],
          "histogram2d": [
           {
            "colorbar": {
             "outlinewidth": 0,
             "ticks": ""
            },
            "colorscale": [
             [
              0,
              "#0d0887"
             ],
             [
              0.1111111111111111,
              "#46039f"
             ],
             [
              0.2222222222222222,
              "#7201a8"
             ],
             [
              0.3333333333333333,
              "#9c179e"
             ],
             [
              0.4444444444444444,
              "#bd3786"
             ],
             [
              0.5555555555555556,
              "#d8576b"
             ],
             [
              0.6666666666666666,
              "#ed7953"
             ],
             [
              0.7777777777777778,
              "#fb9f3a"
             ],
             [
              0.8888888888888888,
              "#fdca26"
             ],
             [
              1,
              "#f0f921"
             ]
            ],
            "type": "histogram2d"
           }
          ],
          "histogram2dcontour": [
           {
            "colorbar": {
             "outlinewidth": 0,
             "ticks": ""
            },
            "colorscale": [
             [
              0,
              "#0d0887"
             ],
             [
              0.1111111111111111,
              "#46039f"
             ],
             [
              0.2222222222222222,
              "#7201a8"
             ],
             [
              0.3333333333333333,
              "#9c179e"
             ],
             [
              0.4444444444444444,
              "#bd3786"
             ],
             [
              0.5555555555555556,
              "#d8576b"
             ],
             [
              0.6666666666666666,
              "#ed7953"
             ],
             [
              0.7777777777777778,
              "#fb9f3a"
             ],
             [
              0.8888888888888888,
              "#fdca26"
             ],
             [
              1,
              "#f0f921"
             ]
            ],
            "type": "histogram2dcontour"
           }
          ],
          "mesh3d": [
           {
            "colorbar": {
             "outlinewidth": 0,
             "ticks": ""
            },
            "type": "mesh3d"
           }
          ],
          "parcoords": [
           {
            "line": {
             "colorbar": {
              "outlinewidth": 0,
              "ticks": ""
             }
            },
            "type": "parcoords"
           }
          ],
          "scatter": [
           {
            "marker": {
             "colorbar": {
              "outlinewidth": 0,
              "ticks": ""
             }
            },
            "type": "scatter"
           }
          ],
          "scatter3d": [
           {
            "line": {
             "colorbar": {
              "outlinewidth": 0,
              "ticks": ""
             }
            },
            "marker": {
             "colorbar": {
              "outlinewidth": 0,
              "ticks": ""
             }
            },
            "type": "scatter3d"
           }
          ],
          "scattercarpet": [
           {
            "marker": {
             "colorbar": {
              "outlinewidth": 0,
              "ticks": ""
             }
            },
            "type": "scattercarpet"
           }
          ],
          "scattergeo": [
           {
            "marker": {
             "colorbar": {
              "outlinewidth": 0,
              "ticks": ""
             }
            },
            "type": "scattergeo"
           }
          ],
          "scattergl": [
           {
            "marker": {
             "colorbar": {
              "outlinewidth": 0,
              "ticks": ""
             }
            },
            "type": "scattergl"
           }
          ],
          "scattermapbox": [
           {
            "marker": {
             "colorbar": {
              "outlinewidth": 0,
              "ticks": ""
             }
            },
            "type": "scattermapbox"
           }
          ],
          "scatterpolar": [
           {
            "marker": {
             "colorbar": {
              "outlinewidth": 0,
              "ticks": ""
             }
            },
            "type": "scatterpolar"
           }
          ],
          "scatterpolargl": [
           {
            "marker": {
             "colorbar": {
              "outlinewidth": 0,
              "ticks": ""
             }
            },
            "type": "scatterpolargl"
           }
          ],
          "scatterternary": [
           {
            "marker": {
             "colorbar": {
              "outlinewidth": 0,
              "ticks": ""
             }
            },
            "type": "scatterternary"
           }
          ],
          "surface": [
           {
            "colorbar": {
             "outlinewidth": 0,
             "ticks": ""
            },
            "colorscale": [
             [
              0,
              "#0d0887"
             ],
             [
              0.1111111111111111,
              "#46039f"
             ],
             [
              0.2222222222222222,
              "#7201a8"
             ],
             [
              0.3333333333333333,
              "#9c179e"
             ],
             [
              0.4444444444444444,
              "#bd3786"
             ],
             [
              0.5555555555555556,
              "#d8576b"
             ],
             [
              0.6666666666666666,
              "#ed7953"
             ],
             [
              0.7777777777777778,
              "#fb9f3a"
             ],
             [
              0.8888888888888888,
              "#fdca26"
             ],
             [
              1,
              "#f0f921"
             ]
            ],
            "type": "surface"
           }
          ],
          "table": [
           {
            "cells": {
             "fill": {
              "color": "#EBF0F8"
             },
             "line": {
              "color": "white"
             }
            },
            "header": {
             "fill": {
              "color": "#C8D4E3"
             },
             "line": {
              "color": "white"
             }
            },
            "type": "table"
           }
          ]
         },
         "layout": {
          "annotationdefaults": {
           "arrowcolor": "#2a3f5f",
           "arrowhead": 0,
           "arrowwidth": 1
          },
          "colorscale": {
           "diverging": [
            [
             0,
             "#8e0152"
            ],
            [
             0.1,
             "#c51b7d"
            ],
            [
             0.2,
             "#de77ae"
            ],
            [
             0.3,
             "#f1b6da"
            ],
            [
             0.4,
             "#fde0ef"
            ],
            [
             0.5,
             "#f7f7f7"
            ],
            [
             0.6,
             "#e6f5d0"
            ],
            [
             0.7,
             "#b8e186"
            ],
            [
             0.8,
             "#7fbc41"
            ],
            [
             0.9,
             "#4d9221"
            ],
            [
             1,
             "#276419"
            ]
           ],
           "sequential": [
            [
             0,
             "#0d0887"
            ],
            [
             0.1111111111111111,
             "#46039f"
            ],
            [
             0.2222222222222222,
             "#7201a8"
            ],
            [
             0.3333333333333333,
             "#9c179e"
            ],
            [
             0.4444444444444444,
             "#bd3786"
            ],
            [
             0.5555555555555556,
             "#d8576b"
            ],
            [
             0.6666666666666666,
             "#ed7953"
            ],
            [
             0.7777777777777778,
             "#fb9f3a"
            ],
            [
             0.8888888888888888,
             "#fdca26"
            ],
            [
             1,
             "#f0f921"
            ]
           ],
           "sequentialminus": [
            [
             0,
             "#0d0887"
            ],
            [
             0.1111111111111111,
             "#46039f"
            ],
            [
             0.2222222222222222,
             "#7201a8"
            ],
            [
             0.3333333333333333,
             "#9c179e"
            ],
            [
             0.4444444444444444,
             "#bd3786"
            ],
            [
             0.5555555555555556,
             "#d8576b"
            ],
            [
             0.6666666666666666,
             "#ed7953"
            ],
            [
             0.7777777777777778,
             "#fb9f3a"
            ],
            [
             0.8888888888888888,
             "#fdca26"
            ],
            [
             1,
             "#f0f921"
            ]
           ]
          },
          "colorway": [
           "#636efa",
           "#EF553B",
           "#00cc96",
           "#ab63fa",
           "#FFA15A",
           "#19d3f3",
           "#FF6692",
           "#B6E880",
           "#FF97FF",
           "#FECB52"
          ],
          "font": {
           "color": "#2a3f5f"
          },
          "geo": {
           "bgcolor": "white",
           "lakecolor": "white",
           "landcolor": "#E5ECF6",
           "showlakes": true,
           "showland": true,
           "subunitcolor": "white"
          },
          "hoverlabel": {
           "align": "left"
          },
          "hovermode": "closest",
          "mapbox": {
           "style": "light"
          },
          "paper_bgcolor": "white",
          "plot_bgcolor": "#E5ECF6",
          "polar": {
           "angularaxis": {
            "gridcolor": "white",
            "linecolor": "white",
            "ticks": ""
           },
           "bgcolor": "#E5ECF6",
           "radialaxis": {
            "gridcolor": "white",
            "linecolor": "white",
            "ticks": ""
           }
          },
          "scene": {
           "xaxis": {
            "backgroundcolor": "#E5ECF6",
            "gridcolor": "white",
            "gridwidth": 2,
            "linecolor": "white",
            "showbackground": true,
            "ticks": "",
            "zerolinecolor": "white"
           },
           "yaxis": {
            "backgroundcolor": "#E5ECF6",
            "gridcolor": "white",
            "gridwidth": 2,
            "linecolor": "white",
            "showbackground": true,
            "ticks": "",
            "zerolinecolor": "white"
           },
           "zaxis": {
            "backgroundcolor": "#E5ECF6",
            "gridcolor": "white",
            "gridwidth": 2,
            "linecolor": "white",
            "showbackground": true,
            "ticks": "",
            "zerolinecolor": "white"
           }
          },
          "shapedefaults": {
           "line": {
            "color": "#2a3f5f"
           }
          },
          "ternary": {
           "aaxis": {
            "gridcolor": "white",
            "linecolor": "white",
            "ticks": ""
           },
           "baxis": {
            "gridcolor": "white",
            "linecolor": "white",
            "ticks": ""
           },
           "bgcolor": "#E5ECF6",
           "caxis": {
            "gridcolor": "white",
            "linecolor": "white",
            "ticks": ""
           }
          },
          "title": {
           "x": 0.05
          },
          "xaxis": {
           "automargin": true,
           "gridcolor": "white",
           "linecolor": "white",
           "ticks": "",
           "zerolinecolor": "white",
           "zerolinewidth": 2
          },
          "yaxis": {
           "automargin": true,
           "gridcolor": "white",
           "linecolor": "white",
           "ticks": "",
           "zerolinecolor": "white",
           "zerolinewidth": 2
          }
         }
        },
        "title": {
         "text": "USA-State Prison Plot"
        }
       }
      },
      "text/html": [
       "<div>\n",
       "        \n",
       "        \n",
       "            <div id=\"aac42e7e-bb9a-4414-92ff-b32b98846a73\" class=\"plotly-graph-div\" style=\"height:525px; width:100%;\"></div>\n",
       "            <script type=\"text/javascript\">\n",
       "                require([\"plotly\"], function(Plotly) {\n",
       "                    window.PLOTLYENV=window.PLOTLYENV || {};\n",
       "                    \n",
       "                if (document.getElementById(\"aac42e7e-bb9a-4414-92ff-b32b98846a73\")) {\n",
       "                    Plotly.newPlot(\n",
       "                        'aac42e7e-bb9a-4414-92ff-b32b98846a73',\n",
       "                        [{\"colorscale\": [[0.0, \"rgb(12,51,131)\"], [0.25, \"rgb(10,136,186)\"], [0.5, \"rgb(242,211,56)\"], [0.75, \"rgb(242,143,56)\"], [1.0, \"rgb(217,30,30)\"]], \"locationmode\": \"USA-states\", \"locations\": [\"AL\", \"AK\", \"AZ\", \"AR\", \"CA\", \"CO\", \"CT\", \"DE\", \"District of Columbia\", \"FL\", \"GA\", \"HI\", \"ID\", \"IL\", \"IN\", \"IA\", \"KS\", \"KY\", \"LA\", \"ME\", \"MD\", \"MA\", \"MI\", \"MN\", \"MS\", \"MO\", \"MT\", \"NE\", \"NV\", \"NH\", \"NJ\", \"NM\", \"NY\", \"NC\", \"ND\", \"OH\", \"OK\", \"OR\", \"PA\", \"RI\", \"SC\", \"SD\", \"TN\", \"TX\", \"UT\", \"VT\", \"VA\", \"WA\", \"WV\", \"WI\", \"WY\"], \"text\": [\"Alabama\", \"Alaska\", \"Arizona\", \"Arkansas\", \"California\", \"Colorado\", \"Connecticut\", \"Delaware\", \"District of Columbia\", \"Florida\", \"Georgia\", \"Hawaii\", \"Idaho\", \"Illinois\", \"Indiana\", \"Iowa\", \"Kansas\", \"Kentucky\", \"Louisiana\", \"Maine\", \"Maryland\", \"Massachusetts\", \"Michigan\", \"Minnesota\", \"Mississippi\", \"Missouri\", \"Montana\", \"Nebraska\", \"Nevada\", \"New Hampshire\", \"New Jersey\", \"New Mexico\", \"New York\", \"North Carolina\", \"North Dakota\", \"Ohio\", \"Oklahoma\", \"Oregon\", \"Pennsylvania\", \"Rhode Island\", \"South Carolina\", \"South Dakota\", \"Tennessee\", \"Texas\", \"Utah\", \"Vermont\", \"Virginia\", \"Washington\", \"West Virginia\", \"Wisconsin\", \"Wyoming\"], \"type\": \"choropleth\", \"z\": [3707440.0, 543763.0, 4959270.0, 2242740.0, 28913129.0, 3981208.0, 2801375.0, 715708.0, 528848.0, 15380947.0, 7452696.0, 1088335.0, 1173727.0, 9827043.0, 4960376.0, 2356209.0, 2162442.0, 3368684.0, 3495847.0, 1064779.0, 4553853.0, 5263550.0, 7625576.0, 4114820.0, 2246931.0, 4628500.0, 785454.0, 1396507.0, 2105976.0, 1047978.0, 6847503.0, 1573400.0, 15344671.0, 7496980.0, 549955.0, 8896930.0, 2885093.0, 3050747.0, 10037099.0, 834983.0, 3662322.0, 631472.0, 4976284.0, 19185395.0, 1978956.0, 502242.0, 6348827.0, 5329782.0, 1472642.0, 4417273.0, 441726.0]}],\n",
       "                        {\"geo\": {\"scope\": \"usa\", \"showlakes\": true}, \"template\": {\"data\": {\"bar\": [{\"error_x\": {\"color\": \"#2a3f5f\"}, \"error_y\": {\"color\": \"#2a3f5f\"}, \"marker\": {\"line\": {\"color\": \"#E5ECF6\", \"width\": 0.5}}, \"type\": \"bar\"}], \"barpolar\": [{\"marker\": {\"line\": {\"color\": \"#E5ECF6\", \"width\": 0.5}}, \"type\": \"barpolar\"}], \"carpet\": [{\"aaxis\": {\"endlinecolor\": \"#2a3f5f\", \"gridcolor\": \"white\", \"linecolor\": \"white\", \"minorgridcolor\": \"white\", \"startlinecolor\": \"#2a3f5f\"}, \"baxis\": {\"endlinecolor\": \"#2a3f5f\", \"gridcolor\": \"white\", \"linecolor\": \"white\", \"minorgridcolor\": \"white\", \"startlinecolor\": \"#2a3f5f\"}, \"type\": \"carpet\"}], \"choropleth\": [{\"colorbar\": {\"outlinewidth\": 0, \"ticks\": \"\"}, \"type\": \"choropleth\"}], \"contour\": [{\"colorbar\": {\"outlinewidth\": 0, \"ticks\": \"\"}, \"colorscale\": [[0.0, \"#0d0887\"], [0.1111111111111111, \"#46039f\"], [0.2222222222222222, \"#7201a8\"], [0.3333333333333333, \"#9c179e\"], [0.4444444444444444, \"#bd3786\"], [0.5555555555555556, \"#d8576b\"], [0.6666666666666666, \"#ed7953\"], [0.7777777777777778, \"#fb9f3a\"], [0.8888888888888888, \"#fdca26\"], [1.0, \"#f0f921\"]], \"type\": \"contour\"}], \"contourcarpet\": [{\"colorbar\": {\"outlinewidth\": 0, \"ticks\": \"\"}, \"type\": \"contourcarpet\"}], \"heatmap\": [{\"colorbar\": {\"outlinewidth\": 0, \"ticks\": \"\"}, \"colorscale\": [[0.0, \"#0d0887\"], [0.1111111111111111, \"#46039f\"], [0.2222222222222222, \"#7201a8\"], [0.3333333333333333, \"#9c179e\"], [0.4444444444444444, \"#bd3786\"], [0.5555555555555556, \"#d8576b\"], [0.6666666666666666, \"#ed7953\"], [0.7777777777777778, \"#fb9f3a\"], [0.8888888888888888, \"#fdca26\"], [1.0, \"#f0f921\"]], \"type\": \"heatmap\"}], \"heatmapgl\": [{\"colorbar\": {\"outlinewidth\": 0, \"ticks\": \"\"}, \"colorscale\": [[0.0, \"#0d0887\"], [0.1111111111111111, \"#46039f\"], [0.2222222222222222, \"#7201a8\"], [0.3333333333333333, \"#9c179e\"], [0.4444444444444444, \"#bd3786\"], [0.5555555555555556, \"#d8576b\"], [0.6666666666666666, \"#ed7953\"], [0.7777777777777778, \"#fb9f3a\"], [0.8888888888888888, \"#fdca26\"], [1.0, \"#f0f921\"]], \"type\": \"heatmapgl\"}], \"histogram\": [{\"marker\": {\"colorbar\": {\"outlinewidth\": 0, \"ticks\": \"\"}}, \"type\": \"histogram\"}], \"histogram2d\": [{\"colorbar\": {\"outlinewidth\": 0, \"ticks\": \"\"}, \"colorscale\": [[0.0, \"#0d0887\"], [0.1111111111111111, \"#46039f\"], [0.2222222222222222, \"#7201a8\"], [0.3333333333333333, \"#9c179e\"], [0.4444444444444444, \"#bd3786\"], [0.5555555555555556, \"#d8576b\"], [0.6666666666666666, \"#ed7953\"], [0.7777777777777778, \"#fb9f3a\"], [0.8888888888888888, \"#fdca26\"], [1.0, \"#f0f921\"]], \"type\": \"histogram2d\"}], \"histogram2dcontour\": [{\"colorbar\": {\"outlinewidth\": 0, \"ticks\": \"\"}, \"colorscale\": [[0.0, \"#0d0887\"], [0.1111111111111111, \"#46039f\"], [0.2222222222222222, \"#7201a8\"], [0.3333333333333333, \"#9c179e\"], [0.4444444444444444, \"#bd3786\"], [0.5555555555555556, \"#d8576b\"], [0.6666666666666666, \"#ed7953\"], [0.7777777777777778, \"#fb9f3a\"], [0.8888888888888888, \"#fdca26\"], [1.0, \"#f0f921\"]], \"type\": \"histogram2dcontour\"}], \"mesh3d\": [{\"colorbar\": {\"outlinewidth\": 0, \"ticks\": \"\"}, \"type\": \"mesh3d\"}], \"parcoords\": [{\"line\": {\"colorbar\": {\"outlinewidth\": 0, \"ticks\": \"\"}}, \"type\": \"parcoords\"}], \"scatter\": [{\"marker\": {\"colorbar\": {\"outlinewidth\": 0, \"ticks\": \"\"}}, \"type\": \"scatter\"}], \"scatter3d\": [{\"line\": {\"colorbar\": {\"outlinewidth\": 0, \"ticks\": \"\"}}, \"marker\": {\"colorbar\": {\"outlinewidth\": 0, \"ticks\": \"\"}}, \"type\": \"scatter3d\"}], \"scattercarpet\": [{\"marker\": {\"colorbar\": {\"outlinewidth\": 0, \"ticks\": \"\"}}, \"type\": \"scattercarpet\"}], \"scattergeo\": [{\"marker\": {\"colorbar\": {\"outlinewidth\": 0, \"ticks\": \"\"}}, \"type\": \"scattergeo\"}], \"scattergl\": [{\"marker\": {\"colorbar\": {\"outlinewidth\": 0, \"ticks\": \"\"}}, \"type\": \"scattergl\"}], \"scattermapbox\": [{\"marker\": {\"colorbar\": {\"outlinewidth\": 0, \"ticks\": \"\"}}, \"type\": \"scattermapbox\"}], \"scatterpolar\": [{\"marker\": {\"colorbar\": {\"outlinewidth\": 0, \"ticks\": \"\"}}, \"type\": \"scatterpolar\"}], \"scatterpolargl\": [{\"marker\": {\"colorbar\": {\"outlinewidth\": 0, \"ticks\": \"\"}}, \"type\": \"scatterpolargl\"}], \"scatterternary\": [{\"marker\": {\"colorbar\": {\"outlinewidth\": 0, \"ticks\": \"\"}}, \"type\": \"scatterternary\"}], \"surface\": [{\"colorbar\": {\"outlinewidth\": 0, \"ticks\": \"\"}, \"colorscale\": [[0.0, \"#0d0887\"], [0.1111111111111111, \"#46039f\"], [0.2222222222222222, \"#7201a8\"], [0.3333333333333333, \"#9c179e\"], [0.4444444444444444, \"#bd3786\"], [0.5555555555555556, \"#d8576b\"], [0.6666666666666666, \"#ed7953\"], [0.7777777777777778, \"#fb9f3a\"], [0.8888888888888888, \"#fdca26\"], [1.0, \"#f0f921\"]], \"type\": \"surface\"}], \"table\": [{\"cells\": {\"fill\": {\"color\": \"#EBF0F8\"}, \"line\": {\"color\": \"white\"}}, \"header\": {\"fill\": {\"color\": \"#C8D4E3\"}, \"line\": {\"color\": \"white\"}}, \"type\": \"table\"}]}, \"layout\": {\"annotationdefaults\": {\"arrowcolor\": \"#2a3f5f\", \"arrowhead\": 0, \"arrowwidth\": 1}, \"colorscale\": {\"diverging\": [[0, \"#8e0152\"], [0.1, \"#c51b7d\"], [0.2, \"#de77ae\"], [0.3, \"#f1b6da\"], [0.4, \"#fde0ef\"], [0.5, \"#f7f7f7\"], [0.6, \"#e6f5d0\"], [0.7, \"#b8e186\"], [0.8, \"#7fbc41\"], [0.9, \"#4d9221\"], [1, \"#276419\"]], \"sequential\": [[0.0, \"#0d0887\"], [0.1111111111111111, \"#46039f\"], [0.2222222222222222, \"#7201a8\"], [0.3333333333333333, \"#9c179e\"], [0.4444444444444444, \"#bd3786\"], [0.5555555555555556, \"#d8576b\"], [0.6666666666666666, \"#ed7953\"], [0.7777777777777778, \"#fb9f3a\"], [0.8888888888888888, \"#fdca26\"], [1.0, \"#f0f921\"]], \"sequentialminus\": [[0.0, \"#0d0887\"], [0.1111111111111111, \"#46039f\"], [0.2222222222222222, \"#7201a8\"], [0.3333333333333333, \"#9c179e\"], [0.4444444444444444, \"#bd3786\"], [0.5555555555555556, \"#d8576b\"], [0.6666666666666666, \"#ed7953\"], [0.7777777777777778, \"#fb9f3a\"], [0.8888888888888888, \"#fdca26\"], [1.0, \"#f0f921\"]]}, \"colorway\": [\"#636efa\", \"#EF553B\", \"#00cc96\", \"#ab63fa\", \"#FFA15A\", \"#19d3f3\", \"#FF6692\", \"#B6E880\", \"#FF97FF\", \"#FECB52\"], \"font\": {\"color\": \"#2a3f5f\"}, \"geo\": {\"bgcolor\": \"white\", \"lakecolor\": \"white\", \"landcolor\": \"#E5ECF6\", \"showlakes\": true, \"showland\": true, \"subunitcolor\": \"white\"}, \"hoverlabel\": {\"align\": \"left\"}, \"hovermode\": \"closest\", \"mapbox\": {\"style\": \"light\"}, \"paper_bgcolor\": \"white\", \"plot_bgcolor\": \"#E5ECF6\", \"polar\": {\"angularaxis\": {\"gridcolor\": \"white\", \"linecolor\": \"white\", \"ticks\": \"\"}, \"bgcolor\": \"#E5ECF6\", \"radialaxis\": {\"gridcolor\": \"white\", \"linecolor\": \"white\", \"ticks\": \"\"}}, \"scene\": {\"xaxis\": {\"backgroundcolor\": \"#E5ECF6\", \"gridcolor\": \"white\", \"gridwidth\": 2, \"linecolor\": \"white\", \"showbackground\": true, \"ticks\": \"\", \"zerolinecolor\": \"white\"}, \"yaxis\": {\"backgroundcolor\": \"#E5ECF6\", \"gridcolor\": \"white\", \"gridwidth\": 2, \"linecolor\": \"white\", \"showbackground\": true, \"ticks\": \"\", \"zerolinecolor\": \"white\"}, \"zaxis\": {\"backgroundcolor\": \"#E5ECF6\", \"gridcolor\": \"white\", \"gridwidth\": 2, \"linecolor\": \"white\", \"showbackground\": true, \"ticks\": \"\", \"zerolinecolor\": \"white\"}}, \"shapedefaults\": {\"line\": {\"color\": \"#2a3f5f\"}}, \"ternary\": {\"aaxis\": {\"gridcolor\": \"white\", \"linecolor\": \"white\", \"ticks\": \"\"}, \"baxis\": {\"gridcolor\": \"white\", \"linecolor\": \"white\", \"ticks\": \"\"}, \"bgcolor\": \"#E5ECF6\", \"caxis\": {\"gridcolor\": \"white\", \"linecolor\": \"white\", \"ticks\": \"\"}}, \"title\": {\"x\": 0.05}, \"xaxis\": {\"automargin\": true, \"gridcolor\": \"white\", \"linecolor\": \"white\", \"ticks\": \"\", \"zerolinecolor\": \"white\", \"zerolinewidth\": 2}, \"yaxis\": {\"automargin\": true, \"gridcolor\": \"white\", \"linecolor\": \"white\", \"ticks\": \"\", \"zerolinecolor\": \"white\", \"zerolinewidth\": 2}}}, \"title\": {\"text\": \"USA-State Prison Plot\"}},\n",
       "                        {\"responsive\": true}\n",
       "                    ).then(function(){\n",
       "                            \n",
       "var gd = document.getElementById('aac42e7e-bb9a-4414-92ff-b32b98846a73');\n",
       "var x = new MutationObserver(function (mutations, observer) {{\n",
       "        var display = window.getComputedStyle(gd).display;\n",
       "        if (!display || display === 'none') {{\n",
       "            console.log([gd, 'removed!']);\n",
       "            Plotly.purge(gd);\n",
       "            observer.disconnect();\n",
       "        }}\n",
       "}});\n",
       "\n",
       "// Listen for the removal of the full notebook cells\n",
       "var notebookContainer = gd.closest('#notebook-container');\n",
       "if (notebookContainer) {{\n",
       "    x.observe(notebookContainer, {childList: true});\n",
       "}}\n",
       "\n",
       "// Listen for the clearing of the current output cell\n",
       "var outputEl = gd.closest('.output');\n",
       "if (outputEl) {{\n",
       "    x.observe(outputEl, {childList: true});\n",
       "}}\n",
       "\n",
       "                        })\n",
       "                };\n",
       "                });\n",
       "            </script>\n",
       "        </div>"
      ]
     },
     "metadata": {},
     "output_type": "display_data"
    }
   ],
   "source": [
    "iplot(choromap)"
   ]
  },
  {
   "cell_type": "code",
   "execution_count": 129,
   "metadata": {},
   "outputs": [
    {
     "data": {
      "text/html": [
       "<div>\n",
       "<style scoped>\n",
       "    .dataframe tbody tr th:only-of-type {\n",
       "        vertical-align: middle;\n",
       "    }\n",
       "\n",
       "    .dataframe tbody tr th {\n",
       "        vertical-align: top;\n",
       "    }\n",
       "\n",
       "    .dataframe thead th {\n",
       "        text-align: right;\n",
       "    }\n",
       "</style>\n",
       "<table border=\"1\" class=\"dataframe\">\n",
       "  <thead>\n",
       "    <tr style=\"text-align: right;\">\n",
       "      <th></th>\n",
       "      <th>City</th>\n",
       "      <th>State</th>\n",
       "      <th>Country</th>\n",
       "      <th>Cost of Living Plus Rent Index</th>\n",
       "      <th>CLI</th>\n",
       "      <th>Rent Index</th>\n",
       "      <th>Groceries Index</th>\n",
       "      <th>Restaurant Price Index</th>\n",
       "      <th>Local Purchasing Power Index</th>\n",
       "      <th>Leverage Model 1</th>\n",
       "      <th>Leverage Model 2</th>\n",
       "    </tr>\n",
       "  </thead>\n",
       "  <tbody>\n",
       "    <tr>\n",
       "      <th>0</th>\n",
       "      <td>Zurich</td>\n",
       "      <td>NaN</td>\n",
       "      <td>Switzerland</td>\n",
       "      <td>108.77</td>\n",
       "      <td>149.53</td>\n",
       "      <td>66.76</td>\n",
       "      <td>163.71</td>\n",
       "      <td>140.58</td>\n",
       "      <td>126.30</td>\n",
       "      <td>0.042957</td>\n",
       "      <td>0.041121</td>\n",
       "    </tr>\n",
       "    <tr>\n",
       "      <th>1</th>\n",
       "      <td>Hamilton</td>\n",
       "      <td>NaN</td>\n",
       "      <td>Bermuda</td>\n",
       "      <td>133.20</td>\n",
       "      <td>148.13</td>\n",
       "      <td>117.80</td>\n",
       "      <td>145.20</td>\n",
       "      <td>152.54</td>\n",
       "      <td>93.42</td>\n",
       "      <td>0.077443</td>\n",
       "      <td>0.041137</td>\n",
       "    </tr>\n",
       "    <tr>\n",
       "      <th>2</th>\n",
       "      <td>Zug</td>\n",
       "      <td>NaN</td>\n",
       "      <td>Switzerland</td>\n",
       "      <td>105.54</td>\n",
       "      <td>142.54</td>\n",
       "      <td>67.39</td>\n",
       "      <td>148.36</td>\n",
       "      <td>143.18</td>\n",
       "      <td>105.62</td>\n",
       "      <td>0.034928</td>\n",
       "      <td>0.034619</td>\n",
       "    </tr>\n",
       "    <tr>\n",
       "      <th>3</th>\n",
       "      <td>Geneva</td>\n",
       "      <td>NaN</td>\n",
       "      <td>Switzerland</td>\n",
       "      <td>106.73</td>\n",
       "      <td>142.12</td>\n",
       "      <td>70.25</td>\n",
       "      <td>147.13</td>\n",
       "      <td>138.96</td>\n",
       "      <td>115.20</td>\n",
       "      <td>0.030242</td>\n",
       "      <td>0.030232</td>\n",
       "    </tr>\n",
       "    <tr>\n",
       "      <th>4</th>\n",
       "      <td>Basel</td>\n",
       "      <td>NaN</td>\n",
       "      <td>Switzerland</td>\n",
       "      <td>97.47</td>\n",
       "      <td>142.02</td>\n",
       "      <td>51.54</td>\n",
       "      <td>149.54</td>\n",
       "      <td>131.72</td>\n",
       "      <td>113.13</td>\n",
       "      <td>0.038061</td>\n",
       "      <td>0.032146</td>\n",
       "    </tr>\n",
       "  </tbody>\n",
       "</table>\n",
       "</div>"
      ],
      "text/plain": [
       "       City State       Country  Cost of Living Plus Rent Index     CLI  \\\n",
       "0    Zurich   NaN   Switzerland                          108.77  149.53   \n",
       "1  Hamilton   NaN       Bermuda                          133.20  148.13   \n",
       "2       Zug   NaN   Switzerland                          105.54  142.54   \n",
       "3    Geneva   NaN   Switzerland                          106.73  142.12   \n",
       "4     Basel   NaN   Switzerland                           97.47  142.02   \n",
       "\n",
       "   Rent Index  Groceries Index  Restaurant Price Index  \\\n",
       "0       66.76           163.71                  140.58   \n",
       "1      117.80           145.20                  152.54   \n",
       "2       67.39           148.36                  143.18   \n",
       "3       70.25           147.13                  138.96   \n",
       "4       51.54           149.54                  131.72   \n",
       "\n",
       "   Local Purchasing Power Index  Leverage Model 1  Leverage Model 2  \n",
       "0                        126.30          0.042957          0.041121  \n",
       "1                         93.42          0.077443          0.041137  \n",
       "2                        105.62          0.034928          0.034619  \n",
       "3                        115.20          0.030242          0.030232  \n",
       "4                        113.13          0.038061          0.032146  "
      ]
     },
     "execution_count": 129,
     "metadata": {},
     "output_type": "execute_result"
    }
   ],
   "source": [
    "df=pd.read_csv('cost-of-living-2017.csv')\n",
    "\n",
    "# n=[]\n",
    "# for i in df['City']:\n",
    "#     n.append(i.split(',')[1])\n",
    "# df[\"country\"]=n\n",
    "\n",
    "df.head()\n"
   ]
  },
  {
   "cell_type": "code",
   "execution_count": 138,
   "metadata": {},
   "outputs": [],
   "source": [
    "data=dict(type='choropleth',\n",
    "          colorscale='Portland',\n",
    "          locations=df['Country'],\n",
    "          locationmode='country names',\n",
    "          z=df['Cost of Living Plus Rent Index'],\n",
    "          text=df['City'], \n",
    "         )"
   ]
  },
  {
   "cell_type": "code",
   "execution_count": 139,
   "metadata": {},
   "outputs": [],
   "source": [
    "layout=dict(title='World Cost of Living 2017 Plot',\n",
    "           geo=dict(scope='world',\n",
    "                    showframe=False,\n",
    "                    projection={'type':'equirectangular'})\n",
    "           )"
   ]
  },
  {
   "cell_type": "code",
   "execution_count": 140,
   "metadata": {},
   "outputs": [],
   "source": [
    "choromap=go.Figure(data=[data],layout=layout)"
   ]
  },
  {
   "cell_type": "code",
   "execution_count": 133,
   "metadata": {},
   "outputs": [
    {
     "data": {
      "application/vnd.plotly.v1+json": {
       "config": {
        "linkText": "Export to plot.ly",
        "plotlyServerURL": "https://plot.ly",
        "showLink": false
       },
       "data": [
        {
         "colorscale": [
          [
           0,
           "rgb(12,51,131)"
          ],
          [
           0.25,
           "rgb(10,136,186)"
          ],
          [
           0.5,
           "rgb(242,211,56)"
          ],
          [
           0.75,
           "rgb(242,143,56)"
          ],
          [
           1,
           "rgb(217,30,30)"
          ]
         ],
         "locationmode": "country names",
         "locations": [
          " Switzerland",
          " Bermuda",
          " Switzerland",
          " Switzerland",
          " Switzerland",
          " Switzerland",
          " Switzerland",
          " Iceland",
          " Switzerland",
          " Norway",
          " Norway",
          " Norway",
          " Norway",
          " Bahamas",
          " United States",
          " United States",
          " United States",
          " United States",
          " United States",
          " United States",
          " Japan",
          " Denmark",
          " United States",
          " United States",
          " United States",
          " United States",
          " United States",
          " Denmark",
          " Israel",
          " United States",
          " Australia",
          " Ireland",
          " Sweden",
          " United States",
          " Australia",
          " New Zealand",
          " United States",
          " Israel",
          " United States",
          " United States",
          " New Zealand",
          " France",
          " Australia",
          " United Kingdom",
          " Australia",
          " Ireland",
          " United States",
          " Austria",
          " Netherlands",
          " Singapore",
          " United States",
          " Luxembourg",
          " United States",
          " Finland",
          " United States",
          " Denmark",
          " France",
          " Israel",
          " United States",
          " Belgium",
          " Australia",
          " Australia",
          " Germany",
          " South Korea",
          " United States",
          " Israel",
          " New Zealand",
          " United States",
          " United States",
          " Belgium",
          " United States",
          " United States",
          " Canada",
          " Australia",
          " United States",
          " Belgium",
          " Australia",
          " United States",
          " Italy",
          " United States",
          " Germany",
          " United States",
          " Sweden",
          " New Zealand",
          " United States",
          " Italy",
          " Canada",
          " United Kingdom",
          " United States",
          " Netherlands",
          " Israel",
          " United Kingdom",
          " Australia",
          " United States",
          " United States",
          " United States",
          " Belgium",
          " United States",
          " Canada",
          " United Kingdom",
          " Italy",
          " United States",
          " United States",
          " Finland",
          " United States",
          " Finland",
          " Germany",
          " United States",
          " United States",
          " Netherlands",
          " United States",
          " United States",
          " Ireland",
          " United States",
          " United States",
          " France",
          " United States",
          " Canada",
          " Sweden",
          " Canada",
          " Netherlands",
          " United States",
          " United States",
          " Italy",
          " Germany",
          " United States",
          " United Kingdom",
          " United States",
          " United States",
          " United States",
          " Japan",
          " United States",
          " United States",
          " United States",
          " Canada",
          " Hong Kong",
          " Australia",
          " Sweden",
          " United States",
          " Canada",
          " United States",
          " United States",
          " Italy",
          " United States",
          " Australia",
          " Ireland",
          " Italy",
          " United Kingdom",
          " United States",
          " United States",
          " Italy",
          " United States",
          " United States",
          " United States",
          " United States",
          " Netherlands",
          " United States",
          " Sweden",
          " United States",
          " United States",
          " Netherlands",
          " Italy",
          " United States",
          " United States",
          " France",
          " United Kingdom",
          " Germany",
          " United Kingdom",
          " Canada",
          " United States",
          " United States",
          " United States",
          " United Kingdom",
          " Italy",
          " Canada",
          " Austria",
          " United Kingdom",
          " United States",
          " United States",
          " United States",
          " United States",
          " United States",
          " United States",
          " Canada",
          " United States",
          " France",
          " Malta",
          " United Kingdom",
          " United Kingdom",
          " United Kingdom",
          " United Kingdom",
          " United States",
          " Austria",
          " United States",
          " Netherlands",
          " United States",
          " United States",
          " Canada",
          " United States",
          " Germany",
          " United States",
          " Canada",
          " United States",
          " United States",
          " Puerto Rico",
          " United Arab Emirates",
          " United States",
          " United States",
          " United States",
          " United States",
          " Canada",
          " Canada",
          " United States",
          " United States",
          " Canada",
          " United States",
          " Canada",
          " United States",
          " Uruguay",
          " Canada",
          " United States",
          " United Kingdom",
          " Canada",
          " Germany",
          " United States",
          " United States",
          " Spain",
          " Canada",
          " United Kingdom",
          " United States",
          " Germany",
          " Germany",
          " United States",
          " United States",
          " United Kingdom",
          " Italy",
          " United States",
          " Canada",
          " Canada",
          " Germany",
          " Italy",
          " United States",
          " United States",
          " United States",
          " Taiwan",
          " Canada",
          " Canada",
          " Canada",
          " Canada",
          " United Kingdom",
          " United States",
          " Canada",
          " United States",
          " Germany",
          " United Kingdom",
          " United Kingdom",
          " Canada",
          " United States",
          " Canada",
          " Spain",
          " United States",
          " United States",
          " United States",
          " Italy",
          " Germany",
          " United States",
          " Qatar",
          " France",
          " United States",
          " United States",
          " United Kingdom",
          " Jamaica",
          " Taiwan",
          " United Kingdom",
          " Malta",
          " Germany",
          " Spain",
          " United Arab Emirates",
          " Spain",
          " United States",
          " Germany",
          " Lebanon",
          " United States",
          " Ghana",
          " Germany",
          " United States",
          " United States",
          " United States",
          " Canada",
          " Cyprus",
          " United States",
          " Canada",
          " Spain",
          " Panama",
          " United States",
          " Slovenia",
          " United States",
          " United States",
          " Greece",
          " Costa Rica",
          " United States",
          " United Arab Emirates",
          " Cyprus",
          " Greece",
          " Greece",
          " Jordan",
          " Bahrain",
          " Taiwan",
          " Spain",
          " Argentina",
          " Brazil",
          " Brazil",
          " Brazil",
          " Spain",
          " Estonia",
          " Croatia",
          " Croatia",
          " Spain",
          " Spain",
          " Brazil",
          " China",
          " Portugal",
          " Brazil",
          " Greece",
          " Croatia",
          " Argentina",
          " Oman",
          " Iraq",
          " Thailand",
          " Chile",
          " Philippines",
          " Spain",
          " Brazil",
          " Zimbabwe",
          " Dominican Republic",
          " Thailand",
          " Portugal",
          " Lithuania",
          " Latvia",
          " Portugal",
          " Estonia",
          " Slovakia",
          " Brazil",
          " Saudi Arabia",
          " Cambodia",
          " Tanzania",
          " Saudi Arabia",
          " Ethiopia",
          " Brazil",
          " Portugal",
          " China",
          " Iraq",
          " Saudi Arabia",
          " El Salvador",
          " Ecuador",
          " Lithuania",
          " Czech Republic",
          " Brazil",
          " Russia",
          " Slovakia",
          " Saudi Arabia",
          " Spain",
          " South Africa",
          " Ecuador",
          " Indonesia",
          " Malaysia",
          " Hungary",
          " Guatemala",
          " Malaysia",
          " South Africa",
          " Croatia",
          " Czech Republic",
          " Malaysia",
          " Thailand",
          " China",
          " Turkey",
          " Malaysia",
          " Thailand",
          " South Africa",
          " Malaysia",
          " Russia",
          " Poland",
          " Peru",
          " China",
          " Indonesia",
          " Mongolia",
          " Poland",
          " Malaysia",
          " Vietnam",
          " Ecuador",
          " South Africa",
          " Poland",
          " Hungary",
          " Kenya",
          " Poland",
          " Vietnam",
          " Poland",
          " Czech Republic",
          " Philippines",
          " Montenegro",
          " Poland",
          " Poland",
          " Czech Republic",
          " Turkey",
          " Iran",
          " Morocco",
          " Philippines",
          " Poland",
          " Indonesia",
          " Romania",
          " Poland",
          " Rwanda",
          " Russia",
          " Bosnia And Herzegovina",
          " Bulgaria",
          " Turkey",
          " Serbia",
          " Turkey",
          " Turkey",
          " Poland",
          " Mexico",
          " Mexico",
          " Poland",
          " Algeria",
          " Bulgaria",
          " Nigeria",
          " Romania",
          " Kazakhstan",
          " Russia",
          " Bosnia And Herzegovina",
          " Morocco",
          " Sri Lanka",
          " Romania",
          " Romania",
          " Indonesia",
          " Bulgaria",
          " Albania",
          " Indonesia",
          " Romania",
          " Colombia",
          " China",
          " Mexico",
          " Serbia",
          " Kazakhstan",
          " Mexico",
          " Macedonia",
          " Romania",
          " Mexico",
          " Venezuela",
          " Bangladesh",
          " Mexico",
          " Mexico",
          " Paraguay",
          " Uganda",
          " Indonesia",
          " Mexico",
          " Belarus",
          " Armenia",
          " India",
          " Mexico",
          " Romania",
          " Philippines",
          " Nepal",
          " Serbia",
          " Colombia",
          " Pakistan",
          " Romania",
          " Ukraine",
          " Moldova",
          " Philippines",
          " Georgia",
          " India",
          " Azerbaijan",
          " India",
          " Colombia",
          " India",
          " Pakistan",
          " India",
          " Philippines",
          " Ukraine",
          " India",
          " India",
          " Tunisia",
          " India",
          " India",
          " Kosovo (Disputed Territory)",
          " Pakistan",
          " India",
          " India",
          " India",
          " India",
          " India",
          " India",
          " Ukraine",
          " India",
          " India",
          " Ukraine",
          " India",
          " India",
          " India",
          " Ukraine",
          " India",
          " India",
          " Egypt",
          " India",
          " India",
          " India",
          " India",
          " Egypt",
          " India",
          " India"
         ],
         "text": [
          "Zurich",
          "Hamilton",
          "Zug",
          "Geneva",
          "Basel",
          "Bern",
          "Lausanne",
          "Reykjavik",
          "Lugano",
          "Stavanger",
          "Trondheim",
          "Oslo",
          "Bergen",
          "Nassau",
          "Honolulu",
          "San Francisco",
          "Anchorage",
          "Brooklyn",
          "New York",
          "Rockville",
          "Tokyo",
          "Copenhagen",
          "Washington",
          "New Haven",
          "Berkeley",
          "Seattle",
          "Arlington",
          "Aalborg",
          "Tel Aviv-Yafo",
          "Santa Rosa",
          "Sydney",
          "Limerick",
          "Stockholm",
          "Bellevue",
          "Perth",
          "Auckland",
          "Oakland",
          "Jerusalem",
          "Miami",
          "Boston",
          "Hamilton",
          "Paris",
          "Darwin",
          "London",
          "Cairns",
          "Dublin",
          "Charleston",
          "Linz",
          "Amsterdam",
          "Singapore",
          "Philadelphia",
          "Luxembourg",
          "Melbourne",
          "Helsinki",
          "Burlington",
          "Arhus",
          "Lyon",
          "Beersheba",
          "Tacoma",
          "Antwerp",
          "Melbourne",
          "Adelaide",
          "Dusseldorf",
          "Seoul",
          "Baltimore",
          "Ramat Gan",
          "Christchurch",
          "Minneapolis",
          "Boulder",
          "Gent",
          "San Jose",
          "Queens",
          "St. John's",
          "Brisbane",
          "Portland",
          "Leuven",
          "Hobart",
          "Chicago",
          "Milan",
          "Akron",
          "Frankfurt",
          "Olympia",
          "Gothenburg",
          "Wellington",
          "Hartford",
          "Florence",
          "Saskatoon",
          "Reading",
          "Allentown",
          "The Hague (Den Haag)",
          "Haifa",
          "Aberdeen",
          "Canberra",
          "Irvine",
          "Sacramento",
          "Everett",
          "Brussels",
          "Fort Collins",
          "Halifax",
          "Cambridge",
          "Genoa",
          "New Orleans",
          "Pittsburgh",
          "Tampere",
          "Los Angeles",
          "Turku",
          "Hamburg",
          "Orlando",
          "Portland",
          "Maastricht",
          "Denver",
          "Saint Paul",
          "Cork",
          "Asheville",
          "Santa Barbara",
          "Toulouse",
          "Indianapolis",
          "Red Deer",
          "Lund",
          "Lethbridge",
          "Utrecht",
          "Jersey City",
          "Atlanta",
          "Padova",
          "Munich",
          "Eugene",
          "Oxford",
          "San Diego",
          "Cleveland",
          "West Palm Beach",
          "Osaka",
          "Detroit",
          "Jacksonville",
          "Milwaukee",
          "Barrie",
          "Hong Kong",
          "Gold Coast",
          "Malmo",
          "Fayetteville",
          "Waterloo",
          "Greensboro",
          "Tampa",
          "Bergamo",
          "Memphis",
          "Newcastle",
          "Galway",
          "Rome",
          "Edinburgh",
          "Plano",
          "Grand Rapids",
          "Parma",
          "Saint Petersburg",
          "Nashville",
          "Little Rock",
          "Austin",
          "Eindhoven",
          "Des Moines",
          "Uppsala",
          "Fort Lauderdale",
          "Harrisburg",
          "Rotterdam",
          "Bologna",
          "Fresno",
          "Syracuse",
          "Lille",
          "Coventry",
          "Heidelberg",
          "Nottingham",
          "Victoria",
          "Charlotte",
          "Richmond",
          "Buffalo",
          "York",
          "Trieste",
          "Calgary",
          "Vienna",
          "Brighton",
          "Dayton",
          "Augusta",
          "Newark",
          "Raleigh",
          "Greenville",
          "Saint Louis",
          "Edmonton",
          "Birmingham",
          "Nantes",
          "Sliema",
          "Glasgow",
          "Bristol",
          "Norwich",
          "Manchester",
          "Shreveport",
          "Graz",
          "Houston",
          "Groningen",
          "Durham",
          "Louisville",
          "Vancouver",
          "Columbia",
          "Stuttgart",
          "Tallahassee",
          "Mississauga",
          "Rochester",
          "Las Vegas",
          "San Juan",
          "Dubai",
          "Spokane",
          "Manchester",
          "Salem",
          "Cincinnati",
          "Kelowna",
          "Fredericton",
          "Tulsa",
          "Fort Worth",
          "Regina",
          "Lexington",
          "Gatineau",
          "Chattanooga",
          "Montevideo",
          "Toronto",
          "Virginia Beach",
          "Southampton",
          "Nanaimo",
          "Karlsruhe",
          "Wichita",
          "Columbus",
          "Bilbao",
          "London",
          "Leeds",
          "Fremont",
          "Berlin",
          "Bonn",
          "Fort Myers",
          "Bakersfield",
          "Sheffield",
          "Naples",
          "Fort Wayne",
          "Quebec City",
          "Winnipeg",
          "Cologne",
          "Turin",
          "Phoenix",
          "Ann Arbor",
          "Vancouver",
          "Taipei",
          "Surrey",
          "Guelph",
          "Windsor",
          "Ottawa",
          "Newcastle Upon Tyne",
          "Pensacola",
          "Kingston",
          "Madison",
          "Nuremberg",
          "Birmingham",
          "Cardiff",
          "Moncton",
          "Dallas",
          "Montreal",
          "Palma De Mallorca",
          "Toledo",
          "Gainesville",
          "Salt Lake City",
          "Brescia",
          "Aachen",
          "Kansas City",
          "Doha",
          "Marseille",
          "Mobile",
          "Albuquerque",
          "Liverpool",
          "Kingston",
          "Taichung",
          "Belfast",
          "Malta",
          "Dresden",
          "Barcelona",
          "Abu Dhabi",
          "Madrid",
          "Oklahoma City",
          "Bremen",
          "Beirut",
          "Knoxville",
          "Accra",
          "Leipzig",
          "Boise",
          "College Station",
          "Huntsville",
          "Hamilton",
          "Nicosia",
          "Tucson",
          "Kitchener",
          "Zaragoza (Saragossa)",
          "Panama City",
          "San Antonio",
          "Ljubljana",
          "Athens",
          "Springfield",
          "Athens",
          "San Jose",
          "Reno",
          "Sharjah",
          "Limassol",
          "Heraklion",
          "Thessaloniki",
          "Amman",
          "Manama",
          "Kaohsiung",
          "Valencia",
          "Buenos Aires",
          "Rio De Janeiro",
          "Sao Paulo",
          "Campinas",
          "Malaga",
          "Tallinn",
          "Rijeka",
          "Split",
          "Granada",
          "Sevilla",
          "Brasilia",
          "Shanghai",
          "Lisbon",
          "Recife",
          "Patras",
          "Zagreb",
          "Cordoba",
          "Muscat",
          "Irbil",
          "Phuket",
          "Santiago",
          "Makati",
          "Santa Cruz De Tenerife",
          "Porto Alegre",
          "Harare",
          "Santo Domingo",
          "Bangkok",
          "Porto",
          "Vilnius",
          "Riga",
          "Coimbra",
          "Tartu",
          "Bratislava",
          "Florianopolis",
          "Ad Dammam",
          "Phnom Penh",
          "Dar Es Salaam",
          "Jeddah (Jiddah)",
          "Addis Ababa",
          "Belo Horizonte",
          "Braga",
          "Shenzhen",
          "Baghdad",
          "Al Khobar",
          "San Salvador",
          "Guayaquil",
          "Kaunas",
          "Prague",
          "Curitiba",
          "Moscow",
          "Kosice",
          "Riyadh",
          "Las Palmas",
          "Pretoria",
          "Quito",
          "Jakarta",
          "Petaling Jaya",
          "Budapest",
          "Guatemala City",
          "Penang",
          "Johannesburg",
          "Osijek",
          "Brno",
          "Johor Bahru",
          "Chiang Mai",
          "Beijing",
          "Istanbul",
          "Kota Kinabalu",
          "Pattaya",
          "Cape Town",
          "Kuala Lumpur",
          "Saint Petersburg",
          "Warsaw",
          "Lima",
          "Guangzhou",
          "Bali",
          "Ulaanbaatar",
          "Gdansk",
          "Selangor",
          "Hanoi",
          "Cuenca",
          "Durban",
          "Wroclaw",
          "Debrecen",
          "Nairobi",
          "Krakow (Cracow)",
          "Ho Chi Minh City",
          "Gdynia",
          "Olomouc",
          "Cebu",
          "Podgorica",
          "Bydgoszcz",
          "Poznan",
          "Ostrava",
          "Ankara",
          "Tehran",
          "Rabat",
          "Manila",
          "Lodz",
          "Surabaya",
          "Bucharest",
          "Szczecin",
          "Kigali",
          "Yekaterinburg",
          "Sarajevo",
          "Sofia",
          "Izmir",
          "Belgrade",
          "Antalya",
          "Bursa",
          "Lublin",
          "Monterrey",
          "Mexico City",
          "Katowice",
          "Algiers",
          "Varna",
          "Lagos",
          "Cluj-napoca",
          "Astana",
          "Novosibirsk",
          "Banja Luka",
          "Casablanca",
          "Colombo",
          "Timisoara",
          "Sibiu",
          "Bandung",
          "Plovdiv",
          "Tirana",
          "Medan",
          "Iasi",
          "Bogota",
          "Chengdu",
          "Cancun",
          "Novi Sad",
          "Almaty",
          "Queretaro",
          "Skopje",
          "Brasov",
          "Tijuana",
          "Caracas",
          "Dhaka",
          "Merida",
          "Guadalajara",
          "Asuncion",
          "Kampala",
          "Yogyakarta",
          "Puerto Vallarta",
          "Minsk",
          "Yerevan",
          "Gurgaon",
          "Puebla",
          "Arad",
          "Quezon City",
          "Kathmandu",
          "Nis",
          "Medellin",
          "Islamabad",
          "Craiova",
          "Odesa",
          "Chisinau",
          "Davao",
          "Tbilisi",
          "Mumbai",
          "Baku",
          "Delhi",
          "Cali",
          "Noida",
          "Lahore",
          "Ludhiana",
          "Valenzuela",
          "Kiev",
          "Pune",
          "Bangalore",
          "Tunis",
          "Thane",
          "Navi Mumbai",
          "Pristina",
          "Karachi",
          "Ahmedabad",
          "Chandigarh",
          "Chennai",
          "Goa",
          "Surat",
          "Kolkata",
          "Dnipropetrovsk",
          "Lucknow (Lakhnau)",
          "Jaipur",
          "Kharkiv",
          "Vadodara",
          "Nagpur",
          "Indore",
          "Lviv",
          "Hyderabad",
          "Mysore",
          "Cairo",
          "Visakhapatnam",
          "Kochi",
          "Bhubaneswar",
          "Coimbatore",
          "Alexandria",
          "Mangalore",
          "Thiruvananthapuram"
         ],
         "type": "choropleth",
         "z": [
          108.77,
          133.2,
          105.54,
          106.73,
          97.47,
          91.11,
          93.56,
          93.89,
          88.62,
          77.8,
          79.22,
          81.9,
          76.68,
          74.04,
          84.44,
          110.65,
          72.2,
          89.47,
          100,
          80.39,
          68.65,
          73.74,
          85.31,
          70.95,
          85.24,
          79.6,
          80.67,
          59.24,
          71.12,
          73.76,
          79.08,
          58.5,
          67.46,
          79.75,
          65.89,
          68.07,
          84.8,
          64.15,
          77.27,
          84.41,
          58.53,
          68.23,
          68,
          81.48,
          59.35,
          71.83,
          68.92,
          58.8,
          70.07,
          77.69,
          68.83,
          71.32,
          59.47,
          63.88,
          64.52,
          59.79,
          56.22,
          53.43,
          62.26,
          56.89,
          65.38,
          60.14,
          60.62,
          60.05,
          66.93,
          61.41,
          58.7,
          64.81,
          70.38,
          55.76,
          84.39,
          74.5,
          53.71,
          63.62,
          62.74,
          56.54,
          57.47,
          70.81,
          62.53,
          53.1,
          60.64,
          58.13,
          57.16,
          60.72,
          63.65,
          56.54,
          56.21,
          61.84,
          59.22,
          58.26,
          52.8,
          57.66,
          63.52,
          74.33,
          63.45,
          62.27,
          58.8,
          61.98,
          55.72,
          63.57,
          52.13,
          62.01,
          61.09,
          54.67,
          74.94,
          54,
          57.3,
          61.32,
          67.06,
          56.24,
          68.12,
          60.22,
          59.61,
          59.25,
          75.91,
          53.31,
          56.1,
          53.67,
          51.87,
          52.97,
          59.67,
          74.46,
          62.72,
          51.6,
          61.67,
          56.19,
          65.86,
          70.49,
          55.33,
          62.16,
          52.25,
          58.48,
          56.95,
          56.93,
          53.09,
          80.93,
          58.79,
          53.58,
          51.43,
          53.82,
          52.53,
          61.98,
          50.28,
          54.19,
          60.18,
          55.81,
          59.7,
          55.99,
          59.68,
          55.96,
          51.02,
          59.99,
          62.69,
          52.29,
          65.18,
          55.21,
          55.19,
          52.65,
          65.42,
          52.5,
          54.6,
          51.45,
          54.78,
          53.09,
          50.61,
          51.18,
          55.78,
          50.48,
          56.21,
          58.66,
          56.68,
          53.27,
          52.44,
          48.9,
          54.29,
          54.19,
          59.03,
          48.92,
          48.59,
          56.73,
          57.23,
          56.15,
          53.24,
          52.68,
          52.1,
          48.9,
          53.23,
          52.08,
          56.72,
          50.2,
          52.53,
          49.83,
          49.38,
          59.8,
          51.56,
          55.3,
          51.97,
          62.06,
          52.67,
          53.36,
          52.42,
          54.99,
          52.32,
          52.77,
          51.4,
          72.95,
          50.73,
          53.93,
          51.89,
          53.12,
          53.31,
          46.28,
          51.43,
          54.48,
          50.43,
          50.78,
          46.23,
          50.39,
          46.9,
          57.99,
          55.24,
          52.33,
          48.38,
          48.99,
          49.08,
          53.68,
          50.93,
          48.74,
          50.52,
          72.09,
          51.71,
          50.37,
          51.67,
          50.47,
          48.41,
          46.54,
          47.29,
          45.27,
          48.58,
          50.07,
          46.91,
          52.04,
          56.99,
          52.19,
          46.19,
          50.79,
          50.15,
          46.04,
          51.52,
          48.17,
          49.78,
          49.9,
          54.26,
          47.49,
          49.41,
          48.59,
          44.83,
          54.78,
          48.03,
          46.31,
          46.13,
          49.52,
          53.67,
          44.54,
          46.63,
          49.92,
          69.29,
          46.14,
          47.37,
          47.68,
          46.77,
          42.32,
          40.97,
          45.73,
          46.12,
          44.36,
          49.29,
          68.74,
          49.37,
          47.39,
          44.65,
          52.15,
          48.65,
          52.85,
          43.39,
          47.31,
          49.84,
          47.71,
          45.94,
          40.78,
          44.98,
          45.59,
          40.08,
          49.18,
          50.28,
          41.91,
          44.69,
          41.46,
          38.37,
          41.43,
          47.6,
          46.32,
          41.74,
          36.77,
          36.84,
          38.85,
          45.3,
          36.01,
          39.19,
          37.85,
          40.86,
          39.29,
          36.17,
          38.76,
          37.1,
          34.78,
          35.47,
          35.85,
          38.5,
          36.15,
          47.02,
          40.75,
          34.71,
          32.78,
          34.99,
          33.72,
          42.19,
          36,
          34.81,
          36.17,
          41.21,
          35.93,
          34.52,
          35.05,
          33.88,
          39.64,
          36.23,
          35.16,
          33.84,
          33.4,
          33.71,
          36.59,
          33.59,
          32.57,
          35.7,
          38.84,
          33.98,
          37.33,
          32.56,
          32.06,
          38.06,
          33.52,
          33.51,
          31.78,
          32.66,
          31.11,
          36.75,
          31.81,
          41.72,
          33.13,
          33.92,
          33.81,
          32.74,
          32.3,
          35.8,
          30.67,
          32.63,
          32.58,
          29.43,
          34.21,
          27.89,
          32.42,
          29.38,
          29.88,
          40.98,
          31.65,
          28.1,
          32.27,
          37.15,
          32.23,
          33.2,
          33.56,
          32.56,
          32.14,
          27,
          31.35,
          30.24,
          27.72,
          30.33,
          27.79,
          30.14,
          31.03,
          27.09,
          29.13,
          30.73,
          31,
          28.57,
          28.14,
          28.07,
          27.65,
          28.75,
          28.88,
          26.89,
          25.88,
          31.95,
          27.54,
          31.2,
          27.5,
          25.97,
          27.82,
          27.21,
          27.9,
          27.08,
          25.75,
          26.89,
          25.36,
          26.49,
          24.38,
          24.25,
          27.87,
          26.73,
          29.38,
          26.03,
          24.99,
          24.4,
          29.28,
          26.36,
          27.99,
          26.08,
          23.26,
          27.18,
          25.48,
          24.59,
          23.62,
          22.46,
          22.99,
          24.39,
          21.86,
          24.13,
          26.14,
          24.88,
          24.14,
          22.65,
          25.48,
          23.88,
          23.01,
          22.93,
          23.27,
          23.45,
          21.82,
          22.61,
          22.72,
          23.71,
          22.47,
          20.95,
          23.51,
          24.16,
          23.12,
          23.37,
          21.88,
          21.96,
          21.33,
          19.98,
          19.99,
          21.9,
          21.77,
          20.07,
          22.39,
          21.47,
          20.22,
          21.97,
          27.88,
          22.04,
          21.44,
          19.89,
          19.87,
          19.35,
          18.33,
          17.59,
          22.57,
          19.26,
          19.98,
          18.4,
          19.34,
          19.72,
          19.3,
          18.46,
          17.97,
          17.79,
          18.1,
          18.2,
          16.67,
          17.79,
          17.77,
          16.52,
          16.45,
          19.03,
          15.76,
          16.19,
          15.82,
          17.87,
          16.69,
          15.54,
          15.83,
          15.51,
          15.93,
          15.06,
          15.37,
          14.96,
          14.56,
          13.59
         ]
        }
       ],
       "layout": {
        "geo": {
         "projection": {
          "type": "equirectangular"
         },
         "scope": "world",
         "showframe": false
        },
        "template": {
         "data": {
          "bar": [
           {
            "error_x": {
             "color": "#2a3f5f"
            },
            "error_y": {
             "color": "#2a3f5f"
            },
            "marker": {
             "line": {
              "color": "#E5ECF6",
              "width": 0.5
             }
            },
            "type": "bar"
           }
          ],
          "barpolar": [
           {
            "marker": {
             "line": {
              "color": "#E5ECF6",
              "width": 0.5
             }
            },
            "type": "barpolar"
           }
          ],
          "carpet": [
           {
            "aaxis": {
             "endlinecolor": "#2a3f5f",
             "gridcolor": "white",
             "linecolor": "white",
             "minorgridcolor": "white",
             "startlinecolor": "#2a3f5f"
            },
            "baxis": {
             "endlinecolor": "#2a3f5f",
             "gridcolor": "white",
             "linecolor": "white",
             "minorgridcolor": "white",
             "startlinecolor": "#2a3f5f"
            },
            "type": "carpet"
           }
          ],
          "choropleth": [
           {
            "colorbar": {
             "outlinewidth": 0,
             "ticks": ""
            },
            "type": "choropleth"
           }
          ],
          "contour": [
           {
            "colorbar": {
             "outlinewidth": 0,
             "ticks": ""
            },
            "colorscale": [
             [
              0,
              "#0d0887"
             ],
             [
              0.1111111111111111,
              "#46039f"
             ],
             [
              0.2222222222222222,
              "#7201a8"
             ],
             [
              0.3333333333333333,
              "#9c179e"
             ],
             [
              0.4444444444444444,
              "#bd3786"
             ],
             [
              0.5555555555555556,
              "#d8576b"
             ],
             [
              0.6666666666666666,
              "#ed7953"
             ],
             [
              0.7777777777777778,
              "#fb9f3a"
             ],
             [
              0.8888888888888888,
              "#fdca26"
             ],
             [
              1,
              "#f0f921"
             ]
            ],
            "type": "contour"
           }
          ],
          "contourcarpet": [
           {
            "colorbar": {
             "outlinewidth": 0,
             "ticks": ""
            },
            "type": "contourcarpet"
           }
          ],
          "heatmap": [
           {
            "colorbar": {
             "outlinewidth": 0,
             "ticks": ""
            },
            "colorscale": [
             [
              0,
              "#0d0887"
             ],
             [
              0.1111111111111111,
              "#46039f"
             ],
             [
              0.2222222222222222,
              "#7201a8"
             ],
             [
              0.3333333333333333,
              "#9c179e"
             ],
             [
              0.4444444444444444,
              "#bd3786"
             ],
             [
              0.5555555555555556,
              "#d8576b"
             ],
             [
              0.6666666666666666,
              "#ed7953"
             ],
             [
              0.7777777777777778,
              "#fb9f3a"
             ],
             [
              0.8888888888888888,
              "#fdca26"
             ],
             [
              1,
              "#f0f921"
             ]
            ],
            "type": "heatmap"
           }
          ],
          "heatmapgl": [
           {
            "colorbar": {
             "outlinewidth": 0,
             "ticks": ""
            },
            "colorscale": [
             [
              0,
              "#0d0887"
             ],
             [
              0.1111111111111111,
              "#46039f"
             ],
             [
              0.2222222222222222,
              "#7201a8"
             ],
             [
              0.3333333333333333,
              "#9c179e"
             ],
             [
              0.4444444444444444,
              "#bd3786"
             ],
             [
              0.5555555555555556,
              "#d8576b"
             ],
             [
              0.6666666666666666,
              "#ed7953"
             ],
             [
              0.7777777777777778,
              "#fb9f3a"
             ],
             [
              0.8888888888888888,
              "#fdca26"
             ],
             [
              1,
              "#f0f921"
             ]
            ],
            "type": "heatmapgl"
           }
          ],
          "histogram": [
           {
            "marker": {
             "colorbar": {
              "outlinewidth": 0,
              "ticks": ""
             }
            },
            "type": "histogram"
           }
          ],
          "histogram2d": [
           {
            "colorbar": {
             "outlinewidth": 0,
             "ticks": ""
            },
            "colorscale": [
             [
              0,
              "#0d0887"
             ],
             [
              0.1111111111111111,
              "#46039f"
             ],
             [
              0.2222222222222222,
              "#7201a8"
             ],
             [
              0.3333333333333333,
              "#9c179e"
             ],
             [
              0.4444444444444444,
              "#bd3786"
             ],
             [
              0.5555555555555556,
              "#d8576b"
             ],
             [
              0.6666666666666666,
              "#ed7953"
             ],
             [
              0.7777777777777778,
              "#fb9f3a"
             ],
             [
              0.8888888888888888,
              "#fdca26"
             ],
             [
              1,
              "#f0f921"
             ]
            ],
            "type": "histogram2d"
           }
          ],
          "histogram2dcontour": [
           {
            "colorbar": {
             "outlinewidth": 0,
             "ticks": ""
            },
            "colorscale": [
             [
              0,
              "#0d0887"
             ],
             [
              0.1111111111111111,
              "#46039f"
             ],
             [
              0.2222222222222222,
              "#7201a8"
             ],
             [
              0.3333333333333333,
              "#9c179e"
             ],
             [
              0.4444444444444444,
              "#bd3786"
             ],
             [
              0.5555555555555556,
              "#d8576b"
             ],
             [
              0.6666666666666666,
              "#ed7953"
             ],
             [
              0.7777777777777778,
              "#fb9f3a"
             ],
             [
              0.8888888888888888,
              "#fdca26"
             ],
             [
              1,
              "#f0f921"
             ]
            ],
            "type": "histogram2dcontour"
           }
          ],
          "mesh3d": [
           {
            "colorbar": {
             "outlinewidth": 0,
             "ticks": ""
            },
            "type": "mesh3d"
           }
          ],
          "parcoords": [
           {
            "line": {
             "colorbar": {
              "outlinewidth": 0,
              "ticks": ""
             }
            },
            "type": "parcoords"
           }
          ],
          "scatter": [
           {
            "marker": {
             "colorbar": {
              "outlinewidth": 0,
              "ticks": ""
             }
            },
            "type": "scatter"
           }
          ],
          "scatter3d": [
           {
            "line": {
             "colorbar": {
              "outlinewidth": 0,
              "ticks": ""
             }
            },
            "marker": {
             "colorbar": {
              "outlinewidth": 0,
              "ticks": ""
             }
            },
            "type": "scatter3d"
           }
          ],
          "scattercarpet": [
           {
            "marker": {
             "colorbar": {
              "outlinewidth": 0,
              "ticks": ""
             }
            },
            "type": "scattercarpet"
           }
          ],
          "scattergeo": [
           {
            "marker": {
             "colorbar": {
              "outlinewidth": 0,
              "ticks": ""
             }
            },
            "type": "scattergeo"
           }
          ],
          "scattergl": [
           {
            "marker": {
             "colorbar": {
              "outlinewidth": 0,
              "ticks": ""
             }
            },
            "type": "scattergl"
           }
          ],
          "scattermapbox": [
           {
            "marker": {
             "colorbar": {
              "outlinewidth": 0,
              "ticks": ""
             }
            },
            "type": "scattermapbox"
           }
          ],
          "scatterpolar": [
           {
            "marker": {
             "colorbar": {
              "outlinewidth": 0,
              "ticks": ""
             }
            },
            "type": "scatterpolar"
           }
          ],
          "scatterpolargl": [
           {
            "marker": {
             "colorbar": {
              "outlinewidth": 0,
              "ticks": ""
             }
            },
            "type": "scatterpolargl"
           }
          ],
          "scatterternary": [
           {
            "marker": {
             "colorbar": {
              "outlinewidth": 0,
              "ticks": ""
             }
            },
            "type": "scatterternary"
           }
          ],
          "surface": [
           {
            "colorbar": {
             "outlinewidth": 0,
             "ticks": ""
            },
            "colorscale": [
             [
              0,
              "#0d0887"
             ],
             [
              0.1111111111111111,
              "#46039f"
             ],
             [
              0.2222222222222222,
              "#7201a8"
             ],
             [
              0.3333333333333333,
              "#9c179e"
             ],
             [
              0.4444444444444444,
              "#bd3786"
             ],
             [
              0.5555555555555556,
              "#d8576b"
             ],
             [
              0.6666666666666666,
              "#ed7953"
             ],
             [
              0.7777777777777778,
              "#fb9f3a"
             ],
             [
              0.8888888888888888,
              "#fdca26"
             ],
             [
              1,
              "#f0f921"
             ]
            ],
            "type": "surface"
           }
          ],
          "table": [
           {
            "cells": {
             "fill": {
              "color": "#EBF0F8"
             },
             "line": {
              "color": "white"
             }
            },
            "header": {
             "fill": {
              "color": "#C8D4E3"
             },
             "line": {
              "color": "white"
             }
            },
            "type": "table"
           }
          ]
         },
         "layout": {
          "annotationdefaults": {
           "arrowcolor": "#2a3f5f",
           "arrowhead": 0,
           "arrowwidth": 1
          },
          "colorscale": {
           "diverging": [
            [
             0,
             "#8e0152"
            ],
            [
             0.1,
             "#c51b7d"
            ],
            [
             0.2,
             "#de77ae"
            ],
            [
             0.3,
             "#f1b6da"
            ],
            [
             0.4,
             "#fde0ef"
            ],
            [
             0.5,
             "#f7f7f7"
            ],
            [
             0.6,
             "#e6f5d0"
            ],
            [
             0.7,
             "#b8e186"
            ],
            [
             0.8,
             "#7fbc41"
            ],
            [
             0.9,
             "#4d9221"
            ],
            [
             1,
             "#276419"
            ]
           ],
           "sequential": [
            [
             0,
             "#0d0887"
            ],
            [
             0.1111111111111111,
             "#46039f"
            ],
            [
             0.2222222222222222,
             "#7201a8"
            ],
            [
             0.3333333333333333,
             "#9c179e"
            ],
            [
             0.4444444444444444,
             "#bd3786"
            ],
            [
             0.5555555555555556,
             "#d8576b"
            ],
            [
             0.6666666666666666,
             "#ed7953"
            ],
            [
             0.7777777777777778,
             "#fb9f3a"
            ],
            [
             0.8888888888888888,
             "#fdca26"
            ],
            [
             1,
             "#f0f921"
            ]
           ],
           "sequentialminus": [
            [
             0,
             "#0d0887"
            ],
            [
             0.1111111111111111,
             "#46039f"
            ],
            [
             0.2222222222222222,
             "#7201a8"
            ],
            [
             0.3333333333333333,
             "#9c179e"
            ],
            [
             0.4444444444444444,
             "#bd3786"
            ],
            [
             0.5555555555555556,
             "#d8576b"
            ],
            [
             0.6666666666666666,
             "#ed7953"
            ],
            [
             0.7777777777777778,
             "#fb9f3a"
            ],
            [
             0.8888888888888888,
             "#fdca26"
            ],
            [
             1,
             "#f0f921"
            ]
           ]
          },
          "colorway": [
           "#636efa",
           "#EF553B",
           "#00cc96",
           "#ab63fa",
           "#FFA15A",
           "#19d3f3",
           "#FF6692",
           "#B6E880",
           "#FF97FF",
           "#FECB52"
          ],
          "font": {
           "color": "#2a3f5f"
          },
          "geo": {
           "bgcolor": "white",
           "lakecolor": "white",
           "landcolor": "#E5ECF6",
           "showlakes": true,
           "showland": true,
           "subunitcolor": "white"
          },
          "hoverlabel": {
           "align": "left"
          },
          "hovermode": "closest",
          "mapbox": {
           "style": "light"
          },
          "paper_bgcolor": "white",
          "plot_bgcolor": "#E5ECF6",
          "polar": {
           "angularaxis": {
            "gridcolor": "white",
            "linecolor": "white",
            "ticks": ""
           },
           "bgcolor": "#E5ECF6",
           "radialaxis": {
            "gridcolor": "white",
            "linecolor": "white",
            "ticks": ""
           }
          },
          "scene": {
           "xaxis": {
            "backgroundcolor": "#E5ECF6",
            "gridcolor": "white",
            "gridwidth": 2,
            "linecolor": "white",
            "showbackground": true,
            "ticks": "",
            "zerolinecolor": "white"
           },
           "yaxis": {
            "backgroundcolor": "#E5ECF6",
            "gridcolor": "white",
            "gridwidth": 2,
            "linecolor": "white",
            "showbackground": true,
            "ticks": "",
            "zerolinecolor": "white"
           },
           "zaxis": {
            "backgroundcolor": "#E5ECF6",
            "gridcolor": "white",
            "gridwidth": 2,
            "linecolor": "white",
            "showbackground": true,
            "ticks": "",
            "zerolinecolor": "white"
           }
          },
          "shapedefaults": {
           "line": {
            "color": "#2a3f5f"
           }
          },
          "ternary": {
           "aaxis": {
            "gridcolor": "white",
            "linecolor": "white",
            "ticks": ""
           },
           "baxis": {
            "gridcolor": "white",
            "linecolor": "white",
            "ticks": ""
           },
           "bgcolor": "#E5ECF6",
           "caxis": {
            "gridcolor": "white",
            "linecolor": "white",
            "ticks": ""
           }
          },
          "title": {
           "x": 0.05
          },
          "xaxis": {
           "automargin": true,
           "gridcolor": "white",
           "linecolor": "white",
           "ticks": "",
           "zerolinecolor": "white",
           "zerolinewidth": 2
          },
          "yaxis": {
           "automargin": true,
           "gridcolor": "white",
           "linecolor": "white",
           "ticks": "",
           "zerolinecolor": "white",
           "zerolinewidth": 2
          }
         }
        },
        "title": {
         "text": "World Cost of Living 2017 Plot"
        }
       }
      },
      "text/html": [
       "<div>\n",
       "        \n",
       "        \n",
       "            <div id=\"22f30b6f-3307-43fa-bc12-b84ed2e26080\" class=\"plotly-graph-div\" style=\"height:525px; width:100%;\"></div>\n",
       "            <script type=\"text/javascript\">\n",
       "                require([\"plotly\"], function(Plotly) {\n",
       "                    window.PLOTLYENV=window.PLOTLYENV || {};\n",
       "                    \n",
       "                if (document.getElementById(\"22f30b6f-3307-43fa-bc12-b84ed2e26080\")) {\n",
       "                    Plotly.newPlot(\n",
       "                        '22f30b6f-3307-43fa-bc12-b84ed2e26080',\n",
       "                        [{\"colorscale\": [[0.0, \"rgb(12,51,131)\"], [0.25, \"rgb(10,136,186)\"], [0.5, \"rgb(242,211,56)\"], [0.75, \"rgb(242,143,56)\"], [1.0, \"rgb(217,30,30)\"]], \"locationmode\": \"country names\", \"locations\": [\" Switzerland\", \" Bermuda\", \" Switzerland\", \" Switzerland\", \" Switzerland\", \" Switzerland\", \" Switzerland\", \" Iceland\", \" Switzerland\", \" Norway\", \" Norway\", \" Norway\", \" Norway\", \" Bahamas\", \" United States\", \" United States\", \" United States\", \" United States\", \" United States\", \" United States\", \" Japan\", \" Denmark\", \" United States\", \" United States\", \" United States\", \" United States\", \" United States\", \" Denmark\", \" Israel\", \" United States\", \" Australia\", \" Ireland\", \" Sweden\", \" United States\", \" Australia\", \" New Zealand\", \" United States\", \" Israel\", \" United States\", \" United States\", \" New Zealand\", \" France\", \" Australia\", \" United Kingdom\", \" Australia\", \" Ireland\", \" United States\", \" Austria\", \" Netherlands\", \" Singapore\", \" United States\", \" Luxembourg\", \" United States\", \" Finland\", \" United States\", \" Denmark\", \" France\", \" Israel\", \" United States\", \" Belgium\", \" Australia\", \" Australia\", \" Germany\", \" South Korea\", \" United States\", \" Israel\", \" New Zealand\", \" United States\", \" United States\", \" Belgium\", \" United States\", \" United States\", \" Canada\", \" Australia\", \" United States\", \" Belgium\", \" Australia\", \" United States\", \" Italy\", \" United States\", \" Germany\", \" United States\", \" Sweden\", \" New Zealand\", \" United States\", \" Italy\", \" Canada\", \" United Kingdom\", \" United States\", \" Netherlands\", \" Israel\", \" United Kingdom\", \" Australia\", \" United States\", \" United States\", \" United States\", \" Belgium\", \" United States\", \" Canada\", \" United Kingdom\", \" Italy\", \" United States\", \" United States\", \" Finland\", \" United States\", \" Finland\", \" Germany\", \" United States\", \" United States\", \" Netherlands\", \" United States\", \" United States\", \" Ireland\", \" United States\", \" United States\", \" France\", \" United States\", \" Canada\", \" Sweden\", \" Canada\", \" Netherlands\", \" United States\", \" United States\", \" Italy\", \" Germany\", \" United States\", \" United Kingdom\", \" United States\", \" United States\", \" United States\", \" Japan\", \" United States\", \" United States\", \" United States\", \" Canada\", \" Hong Kong\", \" Australia\", \" Sweden\", \" United States\", \" Canada\", \" United States\", \" United States\", \" Italy\", \" United States\", \" Australia\", \" Ireland\", \" Italy\", \" United Kingdom\", \" United States\", \" United States\", \" Italy\", \" United States\", \" United States\", \" United States\", \" United States\", \" Netherlands\", \" United States\", \" Sweden\", \" United States\", \" United States\", \" Netherlands\", \" Italy\", \" United States\", \" United States\", \" France\", \" United Kingdom\", \" Germany\", \" United Kingdom\", \" Canada\", \" United States\", \" United States\", \" United States\", \" United Kingdom\", \" Italy\", \" Canada\", \" Austria\", \" United Kingdom\", \" United States\", \" United States\", \" United States\", \" United States\", \" United States\", \" United States\", \" Canada\", \" United States\", \" France\", \" Malta\", \" United Kingdom\", \" United Kingdom\", \" United Kingdom\", \" United Kingdom\", \" United States\", \" Austria\", \" United States\", \" Netherlands\", \" United States\", \" United States\", \" Canada\", \" United States\", \" Germany\", \" United States\", \" Canada\", \" United States\", \" United States\", \" Puerto Rico\", \" United Arab Emirates\", \" United States\", \" United States\", \" United States\", \" United States\", \" Canada\", \" Canada\", \" United States\", \" United States\", \" Canada\", \" United States\", \" Canada\", \" United States\", \" Uruguay\", \" Canada\", \" United States\", \" United Kingdom\", \" Canada\", \" Germany\", \" United States\", \" United States\", \" Spain\", \" Canada\", \" United Kingdom\", \" United States\", \" Germany\", \" Germany\", \" United States\", \" United States\", \" United Kingdom\", \" Italy\", \" United States\", \" Canada\", \" Canada\", \" Germany\", \" Italy\", \" United States\", \" United States\", \" United States\", \" Taiwan\", \" Canada\", \" Canada\", \" Canada\", \" Canada\", \" United Kingdom\", \" United States\", \" Canada\", \" United States\", \" Germany\", \" United Kingdom\", \" United Kingdom\", \" Canada\", \" United States\", \" Canada\", \" Spain\", \" United States\", \" United States\", \" United States\", \" Italy\", \" Germany\", \" United States\", \" Qatar\", \" France\", \" United States\", \" United States\", \" United Kingdom\", \" Jamaica\", \" Taiwan\", \" United Kingdom\", \" Malta\", \" Germany\", \" Spain\", \" United Arab Emirates\", \" Spain\", \" United States\", \" Germany\", \" Lebanon\", \" United States\", \" Ghana\", \" Germany\", \" United States\", \" United States\", \" United States\", \" Canada\", \" Cyprus\", \" United States\", \" Canada\", \" Spain\", \" Panama\", \" United States\", \" Slovenia\", \" United States\", \" United States\", \" Greece\", \" Costa Rica\", \" United States\", \" United Arab Emirates\", \" Cyprus\", \" Greece\", \" Greece\", \" Jordan\", \" Bahrain\", \" Taiwan\", \" Spain\", \" Argentina\", \" Brazil\", \" Brazil\", \" Brazil\", \" Spain\", \" Estonia\", \" Croatia\", \" Croatia\", \" Spain\", \" Spain\", \" Brazil\", \" China\", \" Portugal\", \" Brazil\", \" Greece\", \" Croatia\", \" Argentina\", \" Oman\", \" Iraq\", \" Thailand\", \" Chile\", \" Philippines\", \" Spain\", \" Brazil\", \" Zimbabwe\", \" Dominican Republic\", \" Thailand\", \" Portugal\", \" Lithuania\", \" Latvia\", \" Portugal\", \" Estonia\", \" Slovakia\", \" Brazil\", \" Saudi Arabia\", \" Cambodia\", \" Tanzania\", \" Saudi Arabia\", \" Ethiopia\", \" Brazil\", \" Portugal\", \" China\", \" Iraq\", \" Saudi Arabia\", \" El Salvador\", \" Ecuador\", \" Lithuania\", \" Czech Republic\", \" Brazil\", \" Russia\", \" Slovakia\", \" Saudi Arabia\", \" Spain\", \" South Africa\", \" Ecuador\", \" Indonesia\", \" Malaysia\", \" Hungary\", \" Guatemala\", \" Malaysia\", \" South Africa\", \" Croatia\", \" Czech Republic\", \" Malaysia\", \" Thailand\", \" China\", \" Turkey\", \" Malaysia\", \" Thailand\", \" South Africa\", \" Malaysia\", \" Russia\", \" Poland\", \" Peru\", \" China\", \" Indonesia\", \" Mongolia\", \" Poland\", \" Malaysia\", \" Vietnam\", \" Ecuador\", \" South Africa\", \" Poland\", \" Hungary\", \" Kenya\", \" Poland\", \" Vietnam\", \" Poland\", \" Czech Republic\", \" Philippines\", \" Montenegro\", \" Poland\", \" Poland\", \" Czech Republic\", \" Turkey\", \" Iran\", \" Morocco\", \" Philippines\", \" Poland\", \" Indonesia\", \" Romania\", \" Poland\", \" Rwanda\", \" Russia\", \" Bosnia And Herzegovina\", \" Bulgaria\", \" Turkey\", \" Serbia\", \" Turkey\", \" Turkey\", \" Poland\", \" Mexico\", \" Mexico\", \" Poland\", \" Algeria\", \" Bulgaria\", \" Nigeria\", \" Romania\", \" Kazakhstan\", \" Russia\", \" Bosnia And Herzegovina\", \" Morocco\", \" Sri Lanka\", \" Romania\", \" Romania\", \" Indonesia\", \" Bulgaria\", \" Albania\", \" Indonesia\", \" Romania\", \" Colombia\", \" China\", \" Mexico\", \" Serbia\", \" Kazakhstan\", \" Mexico\", \" Macedonia\", \" Romania\", \" Mexico\", \" Venezuela\", \" Bangladesh\", \" Mexico\", \" Mexico\", \" Paraguay\", \" Uganda\", \" Indonesia\", \" Mexico\", \" Belarus\", \" Armenia\", \" India\", \" Mexico\", \" Romania\", \" Philippines\", \" Nepal\", \" Serbia\", \" Colombia\", \" Pakistan\", \" Romania\", \" Ukraine\", \" Moldova\", \" Philippines\", \" Georgia\", \" India\", \" Azerbaijan\", \" India\", \" Colombia\", \" India\", \" Pakistan\", \" India\", \" Philippines\", \" Ukraine\", \" India\", \" India\", \" Tunisia\", \" India\", \" India\", \" Kosovo (Disputed Territory)\", \" Pakistan\", \" India\", \" India\", \" India\", \" India\", \" India\", \" India\", \" Ukraine\", \" India\", \" India\", \" Ukraine\", \" India\", \" India\", \" India\", \" Ukraine\", \" India\", \" India\", \" Egypt\", \" India\", \" India\", \" India\", \" India\", \" Egypt\", \" India\", \" India\"], \"text\": [\"Zurich\", \"Hamilton\", \"Zug\", \"Geneva\", \"Basel\", \"Bern\", \"Lausanne\", \"Reykjavik\", \"Lugano\", \"Stavanger\", \"Trondheim\", \"Oslo\", \"Bergen\", \"Nassau\", \"Honolulu\", \"San Francisco\", \"Anchorage\", \"Brooklyn\", \"New York\", \"Rockville\", \"Tokyo\", \"Copenhagen\", \"Washington\", \"New Haven\", \"Berkeley\", \"Seattle\", \"Arlington\", \"Aalborg\", \"Tel Aviv-Yafo\", \"Santa Rosa\", \"Sydney\", \"Limerick\", \"Stockholm\", \"Bellevue\", \"Perth\", \"Auckland\", \"Oakland\", \"Jerusalem\", \"Miami\", \"Boston\", \"Hamilton\", \"Paris\", \"Darwin\", \"London\", \"Cairns\", \"Dublin\", \"Charleston\", \"Linz\", \"Amsterdam\", \"Singapore\", \"Philadelphia\", \"Luxembourg\", \"Melbourne\", \"Helsinki\", \"Burlington\", \"Arhus\", \"Lyon\", \"Beersheba\", \"Tacoma\", \"Antwerp\", \"Melbourne\", \"Adelaide\", \"Dusseldorf\", \"Seoul\", \"Baltimore\", \"Ramat Gan\", \"Christchurch\", \"Minneapolis\", \"Boulder\", \"Gent\", \"San Jose\", \"Queens\", \"St. John's\", \"Brisbane\", \"Portland\", \"Leuven\", \"Hobart\", \"Chicago\", \"Milan\", \"Akron\", \"Frankfurt\", \"Olympia\", \"Gothenburg\", \"Wellington\", \"Hartford\", \"Florence\", \"Saskatoon\", \"Reading\", \"Allentown\", \"The Hague (Den Haag)\", \"Haifa\", \"Aberdeen\", \"Canberra\", \"Irvine\", \"Sacramento\", \"Everett\", \"Brussels\", \"Fort Collins\", \"Halifax\", \"Cambridge\", \"Genoa\", \"New Orleans\", \"Pittsburgh\", \"Tampere\", \"Los Angeles\", \"Turku\", \"Hamburg\", \"Orlando\", \"Portland\", \"Maastricht\", \"Denver\", \"Saint Paul\", \"Cork\", \"Asheville\", \"Santa Barbara\", \"Toulouse\", \"Indianapolis\", \"Red Deer\", \"Lund\", \"Lethbridge\", \"Utrecht\", \"Jersey City\", \"Atlanta\", \"Padova\", \"Munich\", \"Eugene\", \"Oxford\", \"San Diego\", \"Cleveland\", \"West Palm Beach\", \"Osaka\", \"Detroit\", \"Jacksonville\", \"Milwaukee\", \"Barrie\", \"Hong Kong\", \"Gold Coast\", \"Malmo\", \"Fayetteville\", \"Waterloo\", \"Greensboro\", \"Tampa\", \"Bergamo\", \"Memphis\", \"Newcastle\", \"Galway\", \"Rome\", \"Edinburgh\", \"Plano\", \"Grand Rapids\", \"Parma\", \"Saint Petersburg\", \"Nashville\", \"Little Rock\", \"Austin\", \"Eindhoven\", \"Des Moines\", \"Uppsala\", \"Fort Lauderdale\", \"Harrisburg\", \"Rotterdam\", \"Bologna\", \"Fresno\", \"Syracuse\", \"Lille\", \"Coventry\", \"Heidelberg\", \"Nottingham\", \"Victoria\", \"Charlotte\", \"Richmond\", \"Buffalo\", \"York\", \"Trieste\", \"Calgary\", \"Vienna\", \"Brighton\", \"Dayton\", \"Augusta\", \"Newark\", \"Raleigh\", \"Greenville\", \"Saint Louis\", \"Edmonton\", \"Birmingham\", \"Nantes\", \"Sliema\", \"Glasgow\", \"Bristol\", \"Norwich\", \"Manchester\", \"Shreveport\", \"Graz\", \"Houston\", \"Groningen\", \"Durham\", \"Louisville\", \"Vancouver\", \"Columbia\", \"Stuttgart\", \"Tallahassee\", \"Mississauga\", \"Rochester\", \"Las Vegas\", \"San Juan\", \"Dubai\", \"Spokane\", \"Manchester\", \"Salem\", \"Cincinnati\", \"Kelowna\", \"Fredericton\", \"Tulsa\", \"Fort Worth\", \"Regina\", \"Lexington\", \"Gatineau\", \"Chattanooga\", \"Montevideo\", \"Toronto\", \"Virginia Beach\", \"Southampton\", \"Nanaimo\", \"Karlsruhe\", \"Wichita\", \"Columbus\", \"Bilbao\", \"London\", \"Leeds\", \"Fremont\", \"Berlin\", \"Bonn\", \"Fort Myers\", \"Bakersfield\", \"Sheffield\", \"Naples\", \"Fort Wayne\", \"Quebec City\", \"Winnipeg\", \"Cologne\", \"Turin\", \"Phoenix\", \"Ann Arbor\", \"Vancouver\", \"Taipei\", \"Surrey\", \"Guelph\", \"Windsor\", \"Ottawa\", \"Newcastle Upon Tyne\", \"Pensacola\", \"Kingston\", \"Madison\", \"Nuremberg\", \"Birmingham\", \"Cardiff\", \"Moncton\", \"Dallas\", \"Montreal\", \"Palma De Mallorca\", \"Toledo\", \"Gainesville\", \"Salt Lake City\", \"Brescia\", \"Aachen\", \"Kansas City\", \"Doha\", \"Marseille\", \"Mobile\", \"Albuquerque\", \"Liverpool\", \"Kingston\", \"Taichung\", \"Belfast\", \"Malta\", \"Dresden\", \"Barcelona\", \"Abu Dhabi\", \"Madrid\", \"Oklahoma City\", \"Bremen\", \"Beirut\", \"Knoxville\", \"Accra\", \"Leipzig\", \"Boise\", \"College Station\", \"Huntsville\", \"Hamilton\", \"Nicosia\", \"Tucson\", \"Kitchener\", \"Zaragoza (Saragossa)\", \"Panama City\", \"San Antonio\", \"Ljubljana\", \"Athens\", \"Springfield\", \"Athens\", \"San Jose\", \"Reno\", \"Sharjah\", \"Limassol\", \"Heraklion\", \"Thessaloniki\", \"Amman\", \"Manama\", \"Kaohsiung\", \"Valencia\", \"Buenos Aires\", \"Rio De Janeiro\", \"Sao Paulo\", \"Campinas\", \"Malaga\", \"Tallinn\", \"Rijeka\", \"Split\", \"Granada\", \"Sevilla\", \"Brasilia\", \"Shanghai\", \"Lisbon\", \"Recife\", \"Patras\", \"Zagreb\", \"Cordoba\", \"Muscat\", \"Irbil\", \"Phuket\", \"Santiago\", \"Makati\", \"Santa Cruz De Tenerife\", \"Porto Alegre\", \"Harare\", \"Santo Domingo\", \"Bangkok\", \"Porto\", \"Vilnius\", \"Riga\", \"Coimbra\", \"Tartu\", \"Bratislava\", \"Florianopolis\", \"Ad Dammam\", \"Phnom Penh\", \"Dar Es Salaam\", \"Jeddah (Jiddah)\", \"Addis Ababa\", \"Belo Horizonte\", \"Braga\", \"Shenzhen\", \"Baghdad\", \"Al Khobar\", \"San Salvador\", \"Guayaquil\", \"Kaunas\", \"Prague\", \"Curitiba\", \"Moscow\", \"Kosice\", \"Riyadh\", \"Las Palmas\", \"Pretoria\", \"Quito\", \"Jakarta\", \"Petaling Jaya\", \"Budapest\", \"Guatemala City\", \"Penang\", \"Johannesburg\", \"Osijek\", \"Brno\", \"Johor Bahru\", \"Chiang Mai\", \"Beijing\", \"Istanbul\", \"Kota Kinabalu\", \"Pattaya\", \"Cape Town\", \"Kuala Lumpur\", \"Saint Petersburg\", \"Warsaw\", \"Lima\", \"Guangzhou\", \"Bali\", \"Ulaanbaatar\", \"Gdansk\", \"Selangor\", \"Hanoi\", \"Cuenca\", \"Durban\", \"Wroclaw\", \"Debrecen\", \"Nairobi\", \"Krakow (Cracow)\", \"Ho Chi Minh City\", \"Gdynia\", \"Olomouc\", \"Cebu\", \"Podgorica\", \"Bydgoszcz\", \"Poznan\", \"Ostrava\", \"Ankara\", \"Tehran\", \"Rabat\", \"Manila\", \"Lodz\", \"Surabaya\", \"Bucharest\", \"Szczecin\", \"Kigali\", \"Yekaterinburg\", \"Sarajevo\", \"Sofia\", \"Izmir\", \"Belgrade\", \"Antalya\", \"Bursa\", \"Lublin\", \"Monterrey\", \"Mexico City\", \"Katowice\", \"Algiers\", \"Varna\", \"Lagos\", \"Cluj-napoca\", \"Astana\", \"Novosibirsk\", \"Banja Luka\", \"Casablanca\", \"Colombo\", \"Timisoara\", \"Sibiu\", \"Bandung\", \"Plovdiv\", \"Tirana\", \"Medan\", \"Iasi\", \"Bogota\", \"Chengdu\", \"Cancun\", \"Novi Sad\", \"Almaty\", \"Queretaro\", \"Skopje\", \"Brasov\", \"Tijuana\", \"Caracas\", \"Dhaka\", \"Merida\", \"Guadalajara\", \"Asuncion\", \"Kampala\", \"Yogyakarta\", \"Puerto Vallarta\", \"Minsk\", \"Yerevan\", \"Gurgaon\", \"Puebla\", \"Arad\", \"Quezon City\", \"Kathmandu\", \"Nis\", \"Medellin\", \"Islamabad\", \"Craiova\", \"Odesa\", \"Chisinau\", \"Davao\", \"Tbilisi\", \"Mumbai\", \"Baku\", \"Delhi\", \"Cali\", \"Noida\", \"Lahore\", \"Ludhiana\", \"Valenzuela\", \"Kiev\", \"Pune\", \"Bangalore\", \"Tunis\", \"Thane\", \"Navi Mumbai\", \"Pristina\", \"Karachi\", \"Ahmedabad\", \"Chandigarh\", \"Chennai\", \"Goa\", \"Surat\", \"Kolkata\", \"Dnipropetrovsk\", \"Lucknow (Lakhnau)\", \"Jaipur\", \"Kharkiv\", \"Vadodara\", \"Nagpur\", \"Indore\", \"Lviv\", \"Hyderabad\", \"Mysore\", \"Cairo\", \"Visakhapatnam\", \"Kochi\", \"Bhubaneswar\", \"Coimbatore\", \"Alexandria\", \"Mangalore\", \"Thiruvananthapuram\"], \"type\": \"choropleth\", \"z\": [108.77, 133.2, 105.54, 106.73, 97.47, 91.11, 93.56, 93.89, 88.62, 77.8, 79.22, 81.9, 76.68, 74.04, 84.44, 110.65, 72.2, 89.47, 100.0, 80.39, 68.65, 73.74, 85.31, 70.95, 85.24, 79.6, 80.67, 59.24, 71.12, 73.76, 79.08, 58.5, 67.46, 79.75, 65.89, 68.07, 84.8, 64.15, 77.27, 84.41, 58.53, 68.23, 68.0, 81.48, 59.35, 71.83, 68.92, 58.8, 70.07, 77.69, 68.83, 71.32, 59.47, 63.88, 64.52, 59.79, 56.22, 53.43, 62.26, 56.89, 65.38, 60.14, 60.62, 60.05, 66.93, 61.41, 58.7, 64.81, 70.38, 55.76, 84.39, 74.5, 53.71, 63.62, 62.74, 56.54, 57.47, 70.81, 62.53, 53.1, 60.64, 58.13, 57.16, 60.72, 63.65, 56.54, 56.21, 61.84, 59.22, 58.26, 52.8, 57.66, 63.52, 74.33, 63.45, 62.27, 58.8, 61.98, 55.72, 63.57, 52.13, 62.01, 61.09, 54.67, 74.94, 54.0, 57.3, 61.32, 67.06, 56.24, 68.12, 60.22, 59.61, 59.25, 75.91, 53.31, 56.1, 53.67, 51.87, 52.97, 59.67, 74.46, 62.72, 51.6, 61.67, 56.19, 65.86, 70.49, 55.33, 62.16, 52.25, 58.48, 56.95, 56.93, 53.09, 80.93, 58.79, 53.58, 51.43, 53.82, 52.53, 61.98, 50.28, 54.19, 60.18, 55.81, 59.7, 55.99, 59.68, 55.96, 51.02, 59.99, 62.69, 52.29, 65.18, 55.21, 55.19, 52.65, 65.42, 52.5, 54.6, 51.45, 54.78, 53.09, 50.61, 51.18, 55.78, 50.48, 56.21, 58.66, 56.68, 53.27, 52.44, 48.9, 54.29, 54.19, 59.03, 48.92, 48.59, 56.73, 57.23, 56.15, 53.24, 52.68, 52.1, 48.9, 53.23, 52.08, 56.72, 50.2, 52.53, 49.83, 49.38, 59.8, 51.56, 55.3, 51.97, 62.06, 52.67, 53.36, 52.42, 54.99, 52.32, 52.77, 51.4, 72.95, 50.73, 53.93, 51.89, 53.12, 53.31, 46.28, 51.43, 54.48, 50.43, 50.78, 46.23, 50.39, 46.9, 57.99, 55.24, 52.33, 48.38, 48.99, 49.08, 53.68, 50.93, 48.74, 50.52, 72.09, 51.71, 50.37, 51.67, 50.47, 48.41, 46.54, 47.29, 45.27, 48.58, 50.07, 46.91, 52.04, 56.99, 52.19, 46.19, 50.79, 50.15, 46.04, 51.52, 48.17, 49.78, 49.9, 54.26, 47.49, 49.41, 48.59, 44.83, 54.78, 48.03, 46.31, 46.13, 49.52, 53.67, 44.54, 46.63, 49.92, 69.29, 46.14, 47.37, 47.68, 46.77, 42.32, 40.97, 45.73, 46.12, 44.36, 49.29, 68.74, 49.37, 47.39, 44.65, 52.15, 48.65, 52.85, 43.39, 47.31, 49.84, 47.71, 45.94, 40.78, 44.98, 45.59, 40.08, 49.18, 50.28, 41.91, 44.69, 41.46, 38.37, 41.43, 47.6, 46.32, 41.74, 36.77, 36.84, 38.85, 45.3, 36.01, 39.19, 37.85, 40.86, 39.29, 36.17, 38.76, 37.1, 34.78, 35.47, 35.85, 38.5, 36.15, 47.02, 40.75, 34.71, 32.78, 34.99, 33.72, 42.19, 36.0, 34.81, 36.17, 41.21, 35.93, 34.52, 35.05, 33.88, 39.64, 36.23, 35.16, 33.84, 33.4, 33.71, 36.59, 33.59, 32.57, 35.7, 38.84, 33.98, 37.33, 32.56, 32.06, 38.06, 33.52, 33.51, 31.78, 32.66, 31.11, 36.75, 31.81, 41.72, 33.13, 33.92, 33.81, 32.74, 32.3, 35.8, 30.67, 32.63, 32.58, 29.43, 34.21, 27.89, 32.42, 29.38, 29.88, 40.98, 31.65, 28.1, 32.27, 37.15, 32.23, 33.2, 33.56, 32.56, 32.14, 27.0, 31.35, 30.24, 27.72, 30.33, 27.79, 30.14, 31.03, 27.09, 29.13, 30.73, 31.0, 28.57, 28.14, 28.07, 27.65, 28.75, 28.88, 26.89, 25.88, 31.95, 27.54, 31.2, 27.5, 25.97, 27.82, 27.21, 27.9, 27.08, 25.75, 26.89, 25.36, 26.49, 24.38, 24.25, 27.87, 26.73, 29.38, 26.03, 24.99, 24.4, 29.28, 26.36, 27.99, 26.08, 23.26, 27.18, 25.48, 24.59, 23.62, 22.46, 22.99, 24.39, 21.86, 24.13, 26.14, 24.88, 24.14, 22.65, 25.48, 23.88, 23.01, 22.93, 23.27, 23.45, 21.82, 22.61, 22.72, 23.71, 22.47, 20.95, 23.51, 24.16, 23.12, 23.37, 21.88, 21.96, 21.33, 19.98, 19.99, 21.9, 21.77, 20.07, 22.39, 21.47, 20.22, 21.97, 27.88, 22.04, 21.44, 19.89, 19.87, 19.35, 18.33, 17.59, 22.57, 19.26, 19.98, 18.4, 19.34, 19.72, 19.3, 18.46, 17.97, 17.79, 18.1, 18.2, 16.67, 17.79, 17.77, 16.52, 16.45, 19.03, 15.76, 16.19, 15.82, 17.87, 16.69, 15.54, 15.83, 15.51, 15.93, 15.06, 15.37, 14.96, 14.56, 13.59]}],\n",
       "                        {\"geo\": {\"projection\": {\"type\": \"equirectangular\"}, \"scope\": \"world\", \"showframe\": false}, \"template\": {\"data\": {\"bar\": [{\"error_x\": {\"color\": \"#2a3f5f\"}, \"error_y\": {\"color\": \"#2a3f5f\"}, \"marker\": {\"line\": {\"color\": \"#E5ECF6\", \"width\": 0.5}}, \"type\": \"bar\"}], \"barpolar\": [{\"marker\": {\"line\": {\"color\": \"#E5ECF6\", \"width\": 0.5}}, \"type\": \"barpolar\"}], \"carpet\": [{\"aaxis\": {\"endlinecolor\": \"#2a3f5f\", \"gridcolor\": \"white\", \"linecolor\": \"white\", \"minorgridcolor\": \"white\", \"startlinecolor\": \"#2a3f5f\"}, \"baxis\": {\"endlinecolor\": \"#2a3f5f\", \"gridcolor\": \"white\", \"linecolor\": \"white\", \"minorgridcolor\": \"white\", \"startlinecolor\": \"#2a3f5f\"}, \"type\": \"carpet\"}], \"choropleth\": [{\"colorbar\": {\"outlinewidth\": 0, \"ticks\": \"\"}, \"type\": \"choropleth\"}], \"contour\": [{\"colorbar\": {\"outlinewidth\": 0, \"ticks\": \"\"}, \"colorscale\": [[0.0, \"#0d0887\"], [0.1111111111111111, \"#46039f\"], [0.2222222222222222, \"#7201a8\"], [0.3333333333333333, \"#9c179e\"], [0.4444444444444444, \"#bd3786\"], [0.5555555555555556, \"#d8576b\"], [0.6666666666666666, \"#ed7953\"], [0.7777777777777778, \"#fb9f3a\"], [0.8888888888888888, \"#fdca26\"], [1.0, \"#f0f921\"]], \"type\": \"contour\"}], \"contourcarpet\": [{\"colorbar\": {\"outlinewidth\": 0, \"ticks\": \"\"}, \"type\": \"contourcarpet\"}], \"heatmap\": [{\"colorbar\": {\"outlinewidth\": 0, \"ticks\": \"\"}, \"colorscale\": [[0.0, \"#0d0887\"], [0.1111111111111111, \"#46039f\"], [0.2222222222222222, \"#7201a8\"], [0.3333333333333333, \"#9c179e\"], [0.4444444444444444, \"#bd3786\"], [0.5555555555555556, \"#d8576b\"], [0.6666666666666666, \"#ed7953\"], [0.7777777777777778, \"#fb9f3a\"], [0.8888888888888888, \"#fdca26\"], [1.0, \"#f0f921\"]], \"type\": \"heatmap\"}], \"heatmapgl\": [{\"colorbar\": {\"outlinewidth\": 0, \"ticks\": \"\"}, \"colorscale\": [[0.0, \"#0d0887\"], [0.1111111111111111, \"#46039f\"], [0.2222222222222222, \"#7201a8\"], [0.3333333333333333, \"#9c179e\"], [0.4444444444444444, \"#bd3786\"], [0.5555555555555556, \"#d8576b\"], [0.6666666666666666, \"#ed7953\"], [0.7777777777777778, \"#fb9f3a\"], [0.8888888888888888, \"#fdca26\"], [1.0, \"#f0f921\"]], \"type\": \"heatmapgl\"}], \"histogram\": [{\"marker\": {\"colorbar\": {\"outlinewidth\": 0, \"ticks\": \"\"}}, \"type\": \"histogram\"}], \"histogram2d\": [{\"colorbar\": {\"outlinewidth\": 0, \"ticks\": \"\"}, \"colorscale\": [[0.0, \"#0d0887\"], [0.1111111111111111, \"#46039f\"], [0.2222222222222222, \"#7201a8\"], [0.3333333333333333, \"#9c179e\"], [0.4444444444444444, \"#bd3786\"], [0.5555555555555556, \"#d8576b\"], [0.6666666666666666, \"#ed7953\"], [0.7777777777777778, \"#fb9f3a\"], [0.8888888888888888, \"#fdca26\"], [1.0, \"#f0f921\"]], \"type\": \"histogram2d\"}], \"histogram2dcontour\": [{\"colorbar\": {\"outlinewidth\": 0, \"ticks\": \"\"}, \"colorscale\": [[0.0, \"#0d0887\"], [0.1111111111111111, \"#46039f\"], [0.2222222222222222, \"#7201a8\"], [0.3333333333333333, \"#9c179e\"], [0.4444444444444444, \"#bd3786\"], [0.5555555555555556, \"#d8576b\"], [0.6666666666666666, \"#ed7953\"], [0.7777777777777778, \"#fb9f3a\"], [0.8888888888888888, \"#fdca26\"], [1.0, \"#f0f921\"]], \"type\": \"histogram2dcontour\"}], \"mesh3d\": [{\"colorbar\": {\"outlinewidth\": 0, \"ticks\": \"\"}, \"type\": \"mesh3d\"}], \"parcoords\": [{\"line\": {\"colorbar\": {\"outlinewidth\": 0, \"ticks\": \"\"}}, \"type\": \"parcoords\"}], \"scatter\": [{\"marker\": {\"colorbar\": {\"outlinewidth\": 0, \"ticks\": \"\"}}, \"type\": \"scatter\"}], \"scatter3d\": [{\"line\": {\"colorbar\": {\"outlinewidth\": 0, \"ticks\": \"\"}}, \"marker\": {\"colorbar\": {\"outlinewidth\": 0, \"ticks\": \"\"}}, \"type\": \"scatter3d\"}], \"scattercarpet\": [{\"marker\": {\"colorbar\": {\"outlinewidth\": 0, \"ticks\": \"\"}}, \"type\": \"scattercarpet\"}], \"scattergeo\": [{\"marker\": {\"colorbar\": {\"outlinewidth\": 0, \"ticks\": \"\"}}, \"type\": \"scattergeo\"}], \"scattergl\": [{\"marker\": {\"colorbar\": {\"outlinewidth\": 0, \"ticks\": \"\"}}, \"type\": \"scattergl\"}], \"scattermapbox\": [{\"marker\": {\"colorbar\": {\"outlinewidth\": 0, \"ticks\": \"\"}}, \"type\": \"scattermapbox\"}], \"scatterpolar\": [{\"marker\": {\"colorbar\": {\"outlinewidth\": 0, \"ticks\": \"\"}}, \"type\": \"scatterpolar\"}], \"scatterpolargl\": [{\"marker\": {\"colorbar\": {\"outlinewidth\": 0, \"ticks\": \"\"}}, \"type\": \"scatterpolargl\"}], \"scatterternary\": [{\"marker\": {\"colorbar\": {\"outlinewidth\": 0, \"ticks\": \"\"}}, \"type\": \"scatterternary\"}], \"surface\": [{\"colorbar\": {\"outlinewidth\": 0, \"ticks\": \"\"}, \"colorscale\": [[0.0, \"#0d0887\"], [0.1111111111111111, \"#46039f\"], [0.2222222222222222, \"#7201a8\"], [0.3333333333333333, \"#9c179e\"], [0.4444444444444444, \"#bd3786\"], [0.5555555555555556, \"#d8576b\"], [0.6666666666666666, \"#ed7953\"], [0.7777777777777778, \"#fb9f3a\"], [0.8888888888888888, \"#fdca26\"], [1.0, \"#f0f921\"]], \"type\": \"surface\"}], \"table\": [{\"cells\": {\"fill\": {\"color\": \"#EBF0F8\"}, \"line\": {\"color\": \"white\"}}, \"header\": {\"fill\": {\"color\": \"#C8D4E3\"}, \"line\": {\"color\": \"white\"}}, \"type\": \"table\"}]}, \"layout\": {\"annotationdefaults\": {\"arrowcolor\": \"#2a3f5f\", \"arrowhead\": 0, \"arrowwidth\": 1}, \"colorscale\": {\"diverging\": [[0, \"#8e0152\"], [0.1, \"#c51b7d\"], [0.2, \"#de77ae\"], [0.3, \"#f1b6da\"], [0.4, \"#fde0ef\"], [0.5, \"#f7f7f7\"], [0.6, \"#e6f5d0\"], [0.7, \"#b8e186\"], [0.8, \"#7fbc41\"], [0.9, \"#4d9221\"], [1, \"#276419\"]], \"sequential\": [[0.0, \"#0d0887\"], [0.1111111111111111, \"#46039f\"], [0.2222222222222222, \"#7201a8\"], [0.3333333333333333, \"#9c179e\"], [0.4444444444444444, \"#bd3786\"], [0.5555555555555556, \"#d8576b\"], [0.6666666666666666, \"#ed7953\"], [0.7777777777777778, \"#fb9f3a\"], [0.8888888888888888, \"#fdca26\"], [1.0, \"#f0f921\"]], \"sequentialminus\": [[0.0, \"#0d0887\"], [0.1111111111111111, \"#46039f\"], [0.2222222222222222, \"#7201a8\"], [0.3333333333333333, \"#9c179e\"], [0.4444444444444444, \"#bd3786\"], [0.5555555555555556, \"#d8576b\"], [0.6666666666666666, \"#ed7953\"], [0.7777777777777778, \"#fb9f3a\"], [0.8888888888888888, \"#fdca26\"], [1.0, \"#f0f921\"]]}, \"colorway\": [\"#636efa\", \"#EF553B\", \"#00cc96\", \"#ab63fa\", \"#FFA15A\", \"#19d3f3\", \"#FF6692\", \"#B6E880\", \"#FF97FF\", \"#FECB52\"], \"font\": {\"color\": \"#2a3f5f\"}, \"geo\": {\"bgcolor\": \"white\", \"lakecolor\": \"white\", \"landcolor\": \"#E5ECF6\", \"showlakes\": true, \"showland\": true, \"subunitcolor\": \"white\"}, \"hoverlabel\": {\"align\": \"left\"}, \"hovermode\": \"closest\", \"mapbox\": {\"style\": \"light\"}, \"paper_bgcolor\": \"white\", \"plot_bgcolor\": \"#E5ECF6\", \"polar\": {\"angularaxis\": {\"gridcolor\": \"white\", \"linecolor\": \"white\", \"ticks\": \"\"}, \"bgcolor\": \"#E5ECF6\", \"radialaxis\": {\"gridcolor\": \"white\", \"linecolor\": \"white\", \"ticks\": \"\"}}, \"scene\": {\"xaxis\": {\"backgroundcolor\": \"#E5ECF6\", \"gridcolor\": \"white\", \"gridwidth\": 2, \"linecolor\": \"white\", \"showbackground\": true, \"ticks\": \"\", \"zerolinecolor\": \"white\"}, \"yaxis\": {\"backgroundcolor\": \"#E5ECF6\", \"gridcolor\": \"white\", \"gridwidth\": 2, \"linecolor\": \"white\", \"showbackground\": true, \"ticks\": \"\", \"zerolinecolor\": \"white\"}, \"zaxis\": {\"backgroundcolor\": \"#E5ECF6\", \"gridcolor\": \"white\", \"gridwidth\": 2, \"linecolor\": \"white\", \"showbackground\": true, \"ticks\": \"\", \"zerolinecolor\": \"white\"}}, \"shapedefaults\": {\"line\": {\"color\": \"#2a3f5f\"}}, \"ternary\": {\"aaxis\": {\"gridcolor\": \"white\", \"linecolor\": \"white\", \"ticks\": \"\"}, \"baxis\": {\"gridcolor\": \"white\", \"linecolor\": \"white\", \"ticks\": \"\"}, \"bgcolor\": \"#E5ECF6\", \"caxis\": {\"gridcolor\": \"white\", \"linecolor\": \"white\", \"ticks\": \"\"}}, \"title\": {\"x\": 0.05}, \"xaxis\": {\"automargin\": true, \"gridcolor\": \"white\", \"linecolor\": \"white\", \"ticks\": \"\", \"zerolinecolor\": \"white\", \"zerolinewidth\": 2}, \"yaxis\": {\"automargin\": true, \"gridcolor\": \"white\", \"linecolor\": \"white\", \"ticks\": \"\", \"zerolinecolor\": \"white\", \"zerolinewidth\": 2}}}, \"title\": {\"text\": \"World Cost of Living 2017 Plot\"}},\n",
       "                        {\"responsive\": true}\n",
       "                    ).then(function(){\n",
       "                            \n",
       "var gd = document.getElementById('22f30b6f-3307-43fa-bc12-b84ed2e26080');\n",
       "var x = new MutationObserver(function (mutations, observer) {{\n",
       "        var display = window.getComputedStyle(gd).display;\n",
       "        if (!display || display === 'none') {{\n",
       "            console.log([gd, 'removed!']);\n",
       "            Plotly.purge(gd);\n",
       "            observer.disconnect();\n",
       "        }}\n",
       "}});\n",
       "\n",
       "// Listen for the removal of the full notebook cells\n",
       "var notebookContainer = gd.closest('#notebook-container');\n",
       "if (notebookContainer) {{\n",
       "    x.observe(notebookContainer, {childList: true});\n",
       "}}\n",
       "\n",
       "// Listen for the clearing of the current output cell\n",
       "var outputEl = gd.closest('.output');\n",
       "if (outputEl) {{\n",
       "    x.observe(outputEl, {childList: true});\n",
       "}}\n",
       "\n",
       "                        })\n",
       "                };\n",
       "                });\n",
       "            </script>\n",
       "        </div>"
      ]
     },
     "metadata": {},
     "output_type": "display_data"
    }
   ],
   "source": [
    "iplot(choromap)"
   ]
  },
  {
   "cell_type": "code",
   "execution_count": null,
   "metadata": {},
   "outputs": [],
   "source": []
  }
 ],
 "metadata": {
  "kernelspec": {
   "display_name": "Python 3",
   "language": "python",
   "name": "python3"
  },
  "language_info": {
   "codemirror_mode": {
    "name": "ipython",
    "version": 3
   },
   "file_extension": ".py",
   "mimetype": "text/x-python",
   "name": "python",
   "nbconvert_exporter": "python",
   "pygments_lexer": "ipython3",
   "version": "3.7.3"
  }
 },
 "nbformat": 4,
 "nbformat_minor": 2
}
